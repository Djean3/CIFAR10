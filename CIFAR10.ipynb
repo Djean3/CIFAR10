{
 "cells": [
  {
   "cell_type": "markdown",
   "metadata": {},
   "source": [
    "<div style=\"border: 5px solid #000080; padding: 10px;\">\n",
    "<h3></h3>\n",
    "</div>"
   ]
  },
  {
   "cell_type": "markdown",
   "metadata": {},
   "source": [
    "<div style=\"display: flex; align-items: center; justify-content: left; height: 100px; border: 5px solid #000080; background-color: #ADD8E6; padding: 10px; font-family: Arial, sans-serif;\">\n",
    "    <h1 style=\"color: #000080; margin: 0; font-size: 48px;\">Hw 07 by David Jean</h1>\n",
    "</div>"
   ]
  },
  {
   "cell_type": "markdown",
   "metadata": {},
   "source": [
    "<div style=\"border: 5px solid #000080; padding: 10px;\">\n",
    "<h3></h3>\n",
    "</div>"
   ]
  },
  {
   "cell_type": "markdown",
   "metadata": {},
   "source": [
    "<div style=\"border-bottom: 5px solid #5DADE2; background-color: #EAF2F8; padding: 10px 20px; font-family: 'Arial', sans-serif;\">\n",
    "    <h2 style=\"color: #34495E; font-size: 32px; margin: 0;\">CIFAR10 Image CLassification using KNN, Logistic Regression, Decision Tree, and CNN</h2>\n",
    "</div>"
   ]
  },
  {
   "cell_type": "markdown",
   "metadata": {},
   "source": [
    "<div style=\"border-bottom: 5px solid #5DADE2; background-color: #EAF2F8; padding: 10px 20px; font-family: 'Arial', sans-serif;\">\n",
    "    <h2 style=\"color: #34495E; font-size: 32px; margin: 0;\">Data 6500: Cases In Data Science, Fall 2023</h2>\n",
    "</div>"
   ]
  },
  {
   "cell_type": "markdown",
   "metadata": {},
   "source": [
    "<div style=\"border: 5px solid #000080; padding: 10px;\">\n",
    "<h3></h3>\n",
    "</div>"
   ]
  },
  {
   "cell_type": "markdown",
   "metadata": {},
   "source": [
    "<div style=\"display: flex; align-items: center; height: 100px; border: 5px solid #000080; background-color: #ADD8E6; padding: 10px;\">\n",
    "    <h3 style=\"color: #000080; margin: 0; font-size: 38px;\">Import Libraries</h3>\n",
    "</div>"
   ]
  },
  {
   "cell_type": "markdown",
   "metadata": {},
   "source": [
    "<div style=\"border: 5px solid #000080; padding: 10px;\">\n",
    "<h3></h3>\n",
    "</div>"
   ]
  },
  {
   "cell_type": "code",
   "execution_count": 12,
   "metadata": {},
   "outputs": [],
   "source": [
    "# Standard libraries\n",
    "import time\n",
    "import sys\n",
    "import warnings\n",
    "import platform\n",
    "\n",
    "import time\n",
    "import pandas as pd\n",
    "import seaborn as sns\n",
    "import matplotlib.pyplot as plt\n",
    "from sklearn.metrics import confusion_matrix, precision_score, recall_score, f1_score\n",
    "from keras.datasets import cifar10\n",
    "from sklearn.neighbors import KNeighborsClassifier\n",
    "from sklearn.metrics import classification_report, accuracy_score\n",
    "from sklearn.model_selection import GridSearchCV\n",
    "import numpy as np\n",
    "from sklearn.linear_model import LogisticRegression\n",
    "from sklearn.model_selection import GridSearchCV\n",
    "from sklearn.metrics import make_scorer, accuracy_score\n",
    "# Data handling\n",
    "import numpy as np\n",
    "import pandas as pd\n",
    "from sklearn.model_selection import RandomizedSearchCV\n",
    "from scipy.stats import randint\n",
    "\n",
    "# Machine learning\n",
    "from scipy.stats import reciprocal\n",
    "from sklearn.model_selection import (\n",
    "    KFold, cross_val_score, GridSearchCV, RandomizedSearchCV,\n",
    "    RepeatedKFold, StratifiedShuffleSplit, train_test_split\n",
    ")\n",
    "from sklearn.metrics import (\n",
    "    accuracy_score, classification_report, confusion_matrix,\n",
    "    mean_absolute_error, mean_squared_error, r2_score\n",
    ")\n",
    "from sklearn.kernel_ridge import KernelRidge\n",
    "from sklearn.linear_model import LogisticRegression\n",
    "from sklearn.neighbors import KNeighborsClassifier\n",
    "from sklearn.svm import SVC, SVR, LinearSVC\n",
    "from sklearn.tree import DecisionTreeClassifier, plot_tree\n",
    "from sklearn.preprocessing import StandardScaler\n",
    "from sklearn.pipeline import make_pipeline\n",
    "from sklearn.exceptions import ConvergenceWarning\n",
    "from sklearn.linear_model import SGDClassifier\n",
    "from sklearn.kernel_approximation import RBFSampler\n",
    "import plotly.graph_objects as go\n",
    "# Neural networks and deep learning\n",
    "import tensorflow as tf\n",
    "from tensorflow.keras import layers\n",
    "from tensorflow.keras.callbacks import EarlyStopping\n",
    "from tensorflow.keras.datasets import mnist\n",
    "from tensorflow.keras.layers import Dense, Dropout, Flatten\n",
    "from tensorflow.keras.models import Sequential\n",
    "from tensorflow.keras.optimizers import Adam, SGD\n",
    "from tensorflow.keras.preprocessing.image import ImageDataGenerator\n",
    "from tensorflow.keras.wrappers.scikit_learn import KerasClassifier\n",
    "\n",
    "import plotly.graph_objects as go\n",
    "from sklearn.metrics import confusion_matrix\n",
    "from keras.datasets import cifar10\n",
    "from sklearn.neighbors import KNeighborsClassifier\n",
    "from sklearn.metrics import accuracy_score\n",
    "import numpy as np\n",
    "import time\n",
    "import numpy as np\n",
    "import pandas as pd\n",
    "import seaborn as sns\n",
    "import matplotlib.pyplot as plt\n",
    "from tensorflow.keras.datasets import cifar10\n",
    "from tensorflow.keras.utils import to_categorical\n",
    "from tensorflow.keras.models import Sequential\n",
    "from tensorflow.keras.layers import Conv2D, MaxPooling2D, Flatten, Dense, Dropout, BatchNormalization\n",
    "from tensorflow.keras.optimizers import Adam\n",
    "from sklearn.metrics import accuracy_score, precision_score, recall_score, f1_score, confusion_matrix\n",
    "\n",
    "import psutil\n",
    "import datetime\n",
    "import os\n",
    "import sys\n",
    "import platform\n",
    "from tensorflow.keras.datasets import mnist\n",
    "from tensorflow.keras.preprocessing.image import ImageDataGenerator\n",
    "from sklearn.model_selection import train_test_split\n",
    "import numpy as np\n",
    "import time\n",
    "import numpy as np\n",
    "import pandas as pd\n",
    "import seaborn as sns\n",
    "import matplotlib.pyplot as plt\n",
    "\n",
    "\n",
    "\n",
    "import seaborn as sns\n",
    "\n",
    "\n",
    "  \n"
   ]
  },
  {
   "cell_type": "markdown",
   "metadata": {},
   "source": [
    "<div style=\"border: 5px solid #000080; padding: 10px;\">\n",
    "<h3></h3>\n",
    "</div>"
   ]
  },
  {
   "cell_type": "markdown",
   "metadata": {},
   "source": [
    "<div style=\"display: flex; align-items: center; height: 100px; border: 5px solid #000080; background-color: #ADD8E6; padding: 10px;\">\n",
    "    <h3 style=\"color: #000080; margin: 0; font-size: 38px;\">Check Version Info</h3>\n",
    "</div>"
   ]
  },
  {
   "cell_type": "markdown",
   "metadata": {},
   "source": [
    "<div style=\"border: 5px solid #000080; padding: 10px;\">\n",
    "<h3></h3>\n",
    "</div>"
   ]
  },
  {
   "cell_type": "code",
   "execution_count": 2,
   "metadata": {},
   "outputs": [
    {
     "name": "stdout",
     "output_type": "stream",
     "text": [
      "Current date and time: 2023-11-18 22:14:51.692261\n",
      "The Python executable is: c:\\Users\\DJ\\anaconda3\\envs\\xgboosttf\\python.exe\n",
      "The Python version is: 3.9.18\n",
      "The TensorFlow version is: 2.10.1\n",
      "The system is: Windows\n",
      "CPU: 13th Gen Intel(R) Core(TM) i9-13900K, Physical cores: 24, Total cores: 32\n",
      "RAM: 63.71 GB\n",
      "Disk space available on current partition: 1561.05 GB\n",
      "Not running inside a Virtual Environment\n",
      "TensorFlow is using GPU: name: NVIDIA GeForce RTX 4090\n"
     ]
    }
   ],
   "source": [
    "import datetime\n",
    "import sys\n",
    "import platform\n",
    "import psutil\n",
    "import os\n",
    "import cpuinfo\n",
    "import tensorflow as tf\n",
    "from tensorflow.python.client import device_lib\n",
    "\n",
    "# Date and Time of Execution\n",
    "print(f\"Current date and time: {datetime.datetime.now()}\")\n",
    "print(f\"The Python executable is: {sys.executable}\")\n",
    "print(f\"The Python version is: {platform.python_version()}\")\n",
    "print(f\"The TensorFlow version is: {tf.__version__}\")\n",
    "print(f\"The system is: {platform.system()}\")\n",
    "\n",
    "# Get CPU information using cpuinfo\n",
    "cpu_info = cpuinfo.get_cpu_info()['brand_raw']\n",
    "print(f\"CPU: {cpu_info}, Physical cores: {psutil.cpu_count(logical=False)}, Total cores: {psutil.cpu_count(logical=True)}\")\n",
    "print(f\"RAM: {psutil.virtual_memory().total / (1024 ** 3):.2f} GB\")\n",
    "\n",
    "# Disk Space\n",
    "print(f\"Disk space available on current partition: {psutil.disk_usage('.').free / (1024 ** 3):.2f} GB\")\n",
    "\n",
    "# Virtual Environment\n",
    "if 'VIRTUAL_ENV' in os.environ:\n",
    "    print(f\"Virtual ENV: {os.environ['VIRTUAL_ENV']}\")\n",
    "else:\n",
    "    print(\"Not running inside a Virtual Environment\")\n",
    "\n",
    "# Check if TensorFlow is using any GPU\n",
    "if tf.config.list_physical_devices('GPU'):\n",
    "    devices = device_lib.list_local_devices()\n",
    "    gpu_devices = [d for d in devices if d.device_type == \"GPU\"]\n",
    "\n",
    "    # Print the name of each GPU device\n",
    "    gpu_names = []\n",
    "    for gpu in gpu_devices:\n",
    "        name = gpu.physical_device_desc.split(\",\")[1]  # Extracting the name part from the description\n",
    "        gpu_names.append(name.strip())  # Stripping any leading/trailing whitespace\n",
    "\n",
    "    print(\"TensorFlow is using GPU:\", \", \".join(gpu_names))\n",
    "else:\n",
    "    print(\"TensorFlow is not using the GPU. Consider enabling GPU for faster performance.\")"
   ]
  },
  {
   "cell_type": "markdown",
   "metadata": {},
   "source": [
    "<div style=\"border: 5px solid #000080; padding: 10px;\">\n",
    "<h3></h3>\n",
    "</div>"
   ]
  },
  {
   "cell_type": "markdown",
   "metadata": {},
   "source": [
    "<div style=\"display: flex; align-items: center; height: 100px; border: 5px solid #000080; background-color: #ADD8E6; padding: 10px;\">\n",
    "    <h3 style=\"color: #000080; margin: 0; font-size: 38px;\">Load the Data</h3>\n",
    "</div>"
   ]
  },
  {
   "cell_type": "markdown",
   "metadata": {},
   "source": [
    "<div style=\"border: 5px solid #000080; padding: 10px;\">\n",
    "<h3></h3>\n",
    "</div>"
   ]
  },
  {
   "cell_type": "markdown",
   "metadata": {},
   "source": [
    "https://www.cs.toronto.edu/~kriz/cifar.html"
   ]
  },
  {
   "cell_type": "code",
   "execution_count": 4,
   "metadata": {},
   "outputs": [],
   "source": [
    "\n",
    "from keras.datasets import cifar10\n",
    "(x_train, y_train), (x_test, y_test) = cifar10.load_data()\n"
   ]
  },
  {
   "cell_type": "code",
   "execution_count": 17,
   "metadata": {},
   "outputs": [
    {
     "name": "stdout",
     "output_type": "stream",
     "text": [
      "x_train shape: (50000, 32, 32, 3)\n",
      "y_train shape: (50000, 1)\n",
      "x_test shape: (50000, 32, 32, 3)\n",
      "y_test shape: (50000, 1)\n"
     ]
    }
   ],
   "source": [
    "#show the shape of the data\n",
    "print('x_train shape:', x_train.shape)\n",
    "print('y_train shape:', y_train.shape)\n",
    "print('x_test shape:', x_train.shape)\n",
    "print('y_test shape:', y_train.shape)"
   ]
  },
  {
   "cell_type": "markdown",
   "metadata": {},
   "source": [
    "<div style=\"border: 5px solid #000080; padding: 10px;\">\n",
    "<h3></h3>\n",
    "</div>"
   ]
  },
  {
   "cell_type": "markdown",
   "metadata": {},
   "source": [
    "<div style=\"display: flex; align-items: center; height: 100px; border: 5px solid #000080; background-color: #ADD8E6; padding: 10px;\">\n",
    "    <h3 style=\"color: #000080; margin: 0; font-size: 38px;\">Sanity Check Images</h3>\n",
    "</div>"
   ]
  },
  {
   "cell_type": "markdown",
   "metadata": {},
   "source": [
    "<div style=\"border: 5px solid #000080; padding: 10px;\">\n",
    "<h3></h3>\n",
    "</div>"
   ]
  },
  {
   "cell_type": "code",
   "execution_count": 6,
   "metadata": {},
   "outputs": [
    {
     "data": {
      "image/png": "[encoded data removed]",
      "text/plain": [
       "<Figure size 1000x700 with 6 Axes>"
      ]
     },
     "metadata": {},
     "output_type": "display_data"
    }
   ],
   "source": [
    "import matplotlib.pyplot as plt\n",
    "import numpy as np\n",
    "from keras.datasets import cifar10\n",
    "\n",
    "# Load CIFAR-10 data\n",
    "(x_train, y_train), _ = cifar10.load_data()\n",
    "\n",
    "# Define CIFAR-10 classes\n",
    "classes = [\"Airplane\", \"Automobile\", \"Bird\", \"Cat\", \"Deer\", \"Dog\", \"Frog\", \"Horse\", \"Ship\", \"Truck\"]\n",
    "\n",
    "# Selecting 6 random images\n",
    "indices = np.random.randint(0, x_train.shape[0], size=6)\n",
    "sample_images = x_train[indices]\n",
    "sample_labels = y_train[indices]\n",
    "\n",
    "# Plotting the images with labels\n",
    "plt.figure(figsize=(10, 7))\n",
    "for i, (image, label) in enumerate(zip(sample_images, sample_labels)):\n",
    "    plt.subplot(2, 3, i + 1)\n",
    "    plt.imshow(image)\n",
    "    plt.title(classes[label[0]])\n",
    "    plt.axis('off')\n",
    "plt.show()\n"
   ]
  },
  {
   "cell_type": "markdown",
   "metadata": {},
   "source": [
    "<div style=\"border: 5px solid #000080; padding: 10px;\">\n",
    "<h3></h3>\n",
    "</div>"
   ]
  },
  {
   "cell_type": "markdown",
   "metadata": {},
   "source": [
    "<div style=\"border: 5px solid #5DADE2; background-color: #EAF2F8; padding: 40px; font-family: 'Arial', sans-serif;\">\n",
    "    <h2 style=\"color: #34495E; font-size: 48px; margin: 0;\">1. K-Nearest Neighbors </h2>\n",
    "</div>"
   ]
  },
  {
   "cell_type": "markdown",
   "metadata": {},
   "source": [
    "<div style=\"border: 5px solid #000080; padding: 10px;\">\n",
    "<h3></h3>\n",
    "</div>"
   ]
  },
  {
   "cell_type": "markdown",
   "metadata": {},
   "source": [
    "<div style=\"border-left: 5px solid #5DADE2; padding: 15px; background-color: #EAF2F8; font-family: Arial, sans-serif;\">\n",
    "\n",
    "<h3 style=\"color: #2C3E50; border-bottom: 2px solid #5DADE2; display: inline-block; padding-bottom: 10px;\">KNN Model Overview: CIFAR-10 Classification</h3>\n",
    "\n",
    "<ul style=\"list-style-type: none; padding-left: 0; color: #34495E;\">\n",
    "    <li style=\"margin-bottom: 10px;\">• <b>Data Preparation:</b> The CIFAR-10 dataset, comprising 60,000 32x32 color images in 10 classes, was loaded and preprocessed. The images were flattened and normalized to prepare for KNN classification.</li>\n",
    "    <li style=\"margin-bottom: 10px;\">• <b>Sample Reduction:</b> To expedite training, a subset of 10,000 samples was randomly selected from the training data.</li>\n",
    "    <li style=\"margin-bottom: 10px;\">• <b>Model Selection:</b> The K-Nearest Neighbors (KNN) algorithm was chosen for its simplicity and effectiveness in handling multi-class classification tasks.</li>\n",
    "    <li style=\"margin-bottom: 10px;\">• <b>Hyperparameter Tuning:</b> RandomizedSearchCV was utilized to optimize parameters like the number of neighbors, weights, algorithm, leaf size, and power parameter of the Minkowski metric.</li>\n",
    "    <li style=\"margin-bottom: 10px;\">• <b>Model Training:</b> The KNN model was trained on the selected sample, using the identified optimal hyperparameters.</li>\n",
    "    <li style=\"margin-bottom: 10px;\">• <b>Performance Evaluation:</b> The model's performance was evaluated using metrics such as accuracy, precision, recall, F1 score, along with a confusion matrix for detailed class-wise analysis.</li>\n",
    "    <li style=\"margin-bottom: 10px;\">• <b>Time Efficiency:</b> The execution time for the complete process, from data preparation to model evaluation, was recorded to assess computational efficiency.</li>\n",
    "    <li style=\"margin-bottom: 10px;\">• <b>Insights and Conclusions:</b> Detailed observations were made regarding the model's performance, particularly its strengths and weaknesses in classifying different image types.</li>\n",
    "</ul>\n",
    "\n",
    "</div>\n"
   ]
  },
  {
   "cell_type": "markdown",
   "metadata": {},
   "source": [
    "<div style=\"border-left: 5px solid #5DADE2; padding: 15px; background-color: #EAF2F8; font-family: Arial, sans-serif;\">\n",
    "\n",
    "\n",
    "\n",
    "<ul style=\"list-style-type: none; padding-left: 0; color: #34495E;\">\n",
    "    <li style=\"margin-bottom: 10px;\">• <b>Note:</b> Best Parameters: {'algorithm': 'brute', 'leaf_size': 13, 'n_neighbors': 6, 'p': 1, 'weights': 'distance'}. CV = 3, max_iter = 100. Sample size of 10000. Execution time: 32 minutes</li>\n",
    "   \n",
    "</ul>"
   ]
  },
  {
   "cell_type": "code",
   "execution_count": 30,
   "metadata": {},
   "outputs": [
    {
     "data": {
      "image/png": "[encoded data removed]",
      "text/plain": [
       "<Figure size 1000x800 with 2 Axes>"
      ]
     },
     "metadata": {},
     "output_type": "display_data"
    },
    {
     "data": {
      "text/html": [
       "<div>\n",
       "<style scoped>\n",
       "    .dataframe tbody tr th:only-of-type {\n",
       "        vertical-align: middle;\n",
       "    }\n",
       "\n",
       "    .dataframe tbody tr th {\n",
       "        vertical-align: top;\n",
       "    }\n",
       "\n",
       "    .dataframe thead th {\n",
       "        text-align: right;\n",
       "    }\n",
       "</style>\n",
       "<table border=\"1\" class=\"dataframe\">\n",
       "  <thead>\n",
       "    <tr style=\"text-align: right;\">\n",
       "      <th></th>\n",
       "      <th>Model</th>\n",
       "      <th>Train Accuracy</th>\n",
       "      <th>Test Accuracy</th>\n",
       "      <th>Precision</th>\n",
       "      <th>Recall</th>\n",
       "      <th>F1 Score</th>\n",
       "      <th>Execution Time</th>\n",
       "    </tr>\n",
       "  </thead>\n",
       "  <tbody>\n",
       "    <tr>\n",
       "      <th>0</th>\n",
       "      <td>KNN</td>\n",
       "      <td>1.0</td>\n",
       "      <td>0.3331</td>\n",
       "      <td>0.396811</td>\n",
       "      <td>0.3331</td>\n",
       "      <td>0.322418</td>\n",
       "      <td>00:00:25</td>\n",
       "    </tr>\n",
       "  </tbody>\n",
       "</table>\n",
       "</div>"
      ],
      "text/plain": [
       "  Model  Train Accuracy  Test Accuracy  Precision  Recall  F1 Score  \\\n",
       "0   KNN             1.0         0.3331   0.396811  0.3331  0.322418   \n",
       "\n",
       "  Execution Time  \n",
       "0       00:00:25  "
      ]
     },
     "execution_count": 30,
     "metadata": {},
     "output_type": "execute_result"
    }
   ],
   "source": [
    "# Start timing\n",
    "start_time_knn = time.time()\n",
    "\n",
    "# Load CIFAR-10 data\n",
    "(x_train, y_train), (x_test, y_test) = cifar10.load_data()\n",
    "\n",
    "# Flatten and normalize the data\n",
    "num_pixels = x_train.shape[1] * x_train.shape[2] * x_train.shape[3]\n",
    "x_train_flat = x_train.reshape(x_train.shape[0], num_pixels).astype('float32') / 255\n",
    "x_test_flat = x_test.reshape(x_test.shape[0], num_pixels).astype('float32') / 255\n",
    "y_train_flat = y_train.ravel()\n",
    "y_test_flat = y_test.ravel()\n",
    "\n",
    "# Sample size for training\n",
    "sample_size = 10000\n",
    "\n",
    "# Randomly select a subset of 5,000 samples from the training data\n",
    "x_train_sub, _, y_train_sub, _ = train_test_split(x_train_flat, y_train_flat, train_size=sample_size, random_state=42)\n",
    "\n",
    "# Use the entire test set as it already contains 10,000 samples\n",
    "x_test_sub = x_test_flat\n",
    "y_test_sub = y_test_flat\n",
    "\n",
    "# Define the best parameters from RandomizedSearchCV\n",
    "best_params_knn_random = {'algorithm': 'brute', 'leaf_size': 13, 'n_neighbors': 6, 'p': 1, 'weights': 'distance'}\n",
    "\n",
    "# Initialize KNN with the best parameters\n",
    "best_knn = KNeighborsClassifier(**best_params_knn_random)\n",
    "best_knn.fit(x_train_sub, y_train_sub)\n",
    "\n",
    "# Predictions, accuracy, and other evaluations using best_knn\n",
    "y_pred_knn = best_knn.predict(x_test_sub)\n",
    "train_accuracy_knn = accuracy_score(y_train_sub, best_knn.predict(x_train_sub))\n",
    "test_accuracy_knn = accuracy_score(y_test_sub, y_pred_knn)\n",
    "\n",
    "# Metrics\n",
    "precision_knn = precision_score(y_test_sub, y_pred_knn, average='macro')\n",
    "recall_knn = recall_score(y_test_sub, y_pred_knn, average='macro')\n",
    "f1_score_knn = f1_score(y_test_sub, y_pred_knn, average='macro')\n",
    "\n",
    "# End timing\n",
    "end_time_knn = time.time()\n",
    "total_time_knn = end_time_knn - start_time_knn\n",
    "\n",
    "# Format time\n",
    "hours, remainder = divmod(total_time_knn, 3600)\n",
    "minutes, seconds = divmod(remainder, 60)\n",
    "time_formatted_knn = \"{:02}:{:02}:{:02}\".format(int(hours), int(minutes), int(seconds))\n",
    "\n",
    "# Create results DataFrame\n",
    "results_data_knn = {\n",
    "    'Model': ['KNN'],\n",
    "    'Train Accuracy': [train_accuracy_knn],\n",
    "    'Test Accuracy': [test_accuracy_knn],\n",
    "    'Precision': [precision_knn],\n",
    "    'Recall': [recall_knn],\n",
    "    'F1 Score': [f1_score_knn],\n",
    "    'Execution Time': [time_formatted_knn]  \n",
    "}\n",
    "\n",
    "Results = pd.DataFrame(results_data_knn)\n",
    "\n",
    "# Define CIFAR-10 classes\n",
    "classes = [\"Airplane\", \"Automobile\", \"Bird\", \"Cat\", \"Deer\", \"Dog\", \"Frog\", \"Horse\", \"Ship\", \"Truck\"]\n",
    "\n",
    "# Confusion matrix\n",
    "conf_matrix = confusion_matrix(y_test_sub, y_pred_knn)\n",
    "\n",
    "# Create a heatmap using seaborn to visualize the confusion matrix\n",
    "plt.figure(figsize=(10, 8))\n",
    "sns.heatmap(conf_matrix, annot=True, fmt='g', cmap='Blues', \n",
    "            xticklabels=classes, yticklabels=classes)\n",
    "\n",
    "plt.xlabel('Predicted labels')\n",
    "plt.ylabel('True labels')\n",
    "plt.title('Confusion Matrix of KNN on CIFAR-10')\n",
    "plt.show()\n",
    "Results"
   ]
  },
  {
   "cell_type": "markdown",
   "metadata": {},
   "source": [
    "<div style=\"border-left: 5px solid #5DADE2; padding: 15px; background-color: #EAF2F8; font-family: Arial, sans-serif;\">\n",
    "  <h3 style=\"color: #2C3E50; border-bottom: 2px solid #5DADE2; display: inline-block; padding-bottom: 10px;\">KNN Model Performance on CIFAR-10:</h3>\n",
    "  <ul style=\"list-style-type: none; padding-left: 0; color: #34495E;\">\n",
    "    <li style=\"margin-bottom: 10px;\">• The model achieved a train accuracy of 1.0, indicating perfect performance on the training set.</li>\n",
    "    <li style=\"margin-bottom: 10px;\">• The test accuracy is 0.3331, suggesting that the model correctly classified approximately 33.31% of the test dataset.</li>\n",
    "    <li style=\"margin-bottom: 10px;\">• The precision of the model is 0.396811, reflecting the proportion of true positive predictions among all positive predictions.</li>\n",
    "    <li style=\"margin-bottom: 10px;\">• The recall of the model is 0.3331, indicating the proportion of actual positives that were correctly identified.</li>\n",
    "    <li style=\"margin-bottom: 10px;\">• The F1 Score, a balance between precision and recall, stands at 0.322418.</li>\n",
    "    <li style=\"margin-bottom: 10px;\">• The model was particularly effective in classifying 'Ships' and 'Airplanes', but struggled with 'Cats' and 'Trucks'.</li>\n",
    "    <li style=\"margin-bottom: 10px;\">• The execution time for the model was 24 seconds, reflecting the efficiency of the KNN algorithm in processing the dataset.</li>\n",
    "  </ul>\n",
    "</div>\n"
   ]
  },
  {
   "cell_type": "code",
   "execution_count": 18,
   "metadata": {},
   "outputs": [
    {
     "data": {
      "application/vnd.plotly.v1+json": {
       "config": {
        "plotlyServerURL": "https://plot.ly"
       },
       "data": [
        {
         "marker": {
          "color": "#6699cc"
         },
         "name": "Correct",
         "orientation": "h",
         "type": "bar",
         "x": [
          494,
          170,
          334,
          117,
          509,
          213,
          276,
          203,
          603,
          173
         ],
         "y": [
          "Airplane",
          "Automobile",
          "Bird",
          "Cat",
          "Deer",
          "Dog",
          "Frog",
          "Horse",
          "Ship",
          "Truck"
         ]
        },
        {
         "marker": {
          "color": "#abdbe3"
         },
         "name": "Incorrect",
         "orientation": "h",
         "type": "bar",
         "x": [
          506,
          830,
          666,
          883,
          491,
          787,
          724,
          797,
          397,
          827
         ],
         "y": [
          "Airplane",
          "Automobile",
          "Bird",
          "Cat",
          "Deer",
          "Dog",
          "Frog",
          "Horse",
          "Ship",
          "Truck"
         ]
        }
       ],
       "layout": {
        "annotations": [
         {
          "font": {
           "color": "white"
          },
          "showarrow": false,
          "text": "494",
          "x": 247,
          "y": "Airplane"
         },
         {
          "font": {
           "color": "white"
          },
          "showarrow": false,
          "text": "506",
          "x": 747,
          "y": "Airplane"
         },
         {
          "font": {
           "color": "white"
          },
          "showarrow": false,
          "text": "170",
          "x": 85,
          "y": "Automobile"
         },
         {
          "font": {
           "color": "white"
          },
          "showarrow": false,
          "text": "830",
          "x": 585,
          "y": "Automobile"
         },
         {
          "font": {
           "color": "white"
          },
          "showarrow": false,
          "text": "334",
          "x": 167,
          "y": "Bird"
         },
         {
          "font": {
           "color": "white"
          },
          "showarrow": false,
          "text": "666",
          "x": 667,
          "y": "Bird"
         },
         {
          "font": {
           "color": "white"
          },
          "showarrow": false,
          "text": "117",
          "x": 58.5,
          "y": "Cat"
         },
         {
          "font": {
           "color": "white"
          },
          "showarrow": false,
          "text": "883",
          "x": 558.5,
          "y": "Cat"
         },
         {
          "font": {
           "color": "white"
          },
          "showarrow": false,
          "text": "509",
          "x": 254.5,
          "y": "Deer"
         },
         {
          "font": {
           "color": "white"
          },
          "showarrow": false,
          "text": "491",
          "x": 754.5,
          "y": "Deer"
         },
         {
          "font": {
           "color": "white"
          },
          "showarrow": false,
          "text": "213",
          "x": 106.5,
          "y": "Dog"
         },
         {
          "font": {
           "color": "white"
          },
          "showarrow": false,
          "text": "787",
          "x": 606.5,
          "y": "Dog"
         },
         {
          "font": {
           "color": "white"
          },
          "showarrow": false,
          "text": "276",
          "x": 138,
          "y": "Frog"
         },
         {
          "font": {
           "color": "white"
          },
          "showarrow": false,
          "text": "724",
          "x": 638,
          "y": "Frog"
         },
         {
          "font": {
           "color": "white"
          },
          "showarrow": false,
          "text": "203",
          "x": 101.5,
          "y": "Horse"
         },
         {
          "font": {
           "color": "white"
          },
          "showarrow": false,
          "text": "797",
          "x": 601.5,
          "y": "Horse"
         },
         {
          "font": {
           "color": "white"
          },
          "showarrow": false,
          "text": "603",
          "x": 301.5,
          "y": "Ship"
         },
         {
          "font": {
           "color": "white"
          },
          "showarrow": false,
          "text": "397",
          "x": 801.5,
          "y": "Ship"
         },
         {
          "font": {
           "color": "white"
          },
          "showarrow": false,
          "text": "173",
          "x": 86.5,
          "y": "Truck"
         },
         {
          "font": {
           "color": "white"
          },
          "showarrow": false,
          "text": "827",
          "x": 586.5,
          "y": "Truck"
         }
        ],
        "barmode": "stack",
        "template": {
         "data": {
          "bar": [
           {
            "error_x": {
             "color": "#2a3f5f"
            },
            "error_y": {
             "color": "#2a3f5f"
            },
            "marker": {
             "line": {
              "color": "#E5ECF6",
              "width": 0.5
             },
             "pattern": {
              "fillmode": "overlay",
              "size": 10,
              "solidity": 0.2
             }
            },
            "type": "bar"
           }
          ],
          "barpolar": [
           {
            "marker": {
             "line": {
              "color": "#E5ECF6",
              "width": 0.5
             },
             "pattern": {
              "fillmode": "overlay",
              "size": 10,
              "solidity": 0.2
             }
            },
            "type": "barpolar"
           }
          ],
          "carpet": [
           {
            "aaxis": {
             "endlinecolor": "#2a3f5f",
             "gridcolor": "white",
             "linecolor": "white",
             "minorgridcolor": "white",
             "startlinecolor": "#2a3f5f"
            },
            "baxis": {
             "endlinecolor": "#2a3f5f",
             "gridcolor": "white",
             "linecolor": "white",
             "minorgridcolor": "white",
             "startlinecolor": "#2a3f5f"
            },
            "type": "carpet"
           }
          ],
          "choropleth": [
           {
            "colorbar": {
             "outlinewidth": 0,
             "ticks": ""
            },
            "type": "choropleth"
           }
          ],
          "contour": [
           {
            "colorbar": {
             "outlinewidth": 0,
             "ticks": ""
            },
            "colorscale": [
             [
              0,
              "#0d0887"
             ],
             [
              0.1111111111111111,
              "#46039f"
             ],
             [
              0.2222222222222222,
              "#7201a8"
             ],
             [
              0.3333333333333333,
              "#9c179e"
             ],
             [
              0.4444444444444444,
              "#bd3786"
             ],
             [
              0.5555555555555556,
              "#d8576b"
             ],
             [
              0.6666666666666666,
              "#ed7953"
             ],
             [
              0.7777777777777778,
              "#fb9f3a"
             ],
             [
              0.8888888888888888,
              "#fdca26"
             ],
             [
              1,
              "#f0f921"
             ]
            ],
            "type": "contour"
           }
          ],
          "contourcarpet": [
           {
            "colorbar": {
             "outlinewidth": 0,
             "ticks": ""
            },
            "type": "contourcarpet"
           }
          ],
          "heatmap": [
           {
            "colorbar": {
             "outlinewidth": 0,
             "ticks": ""
            },
            "colorscale": [
             [
              0,
              "#0d0887"
             ],
             [
              0.1111111111111111,
              "#46039f"
             ],
             [
              0.2222222222222222,
              "#7201a8"
             ],
             [
              0.3333333333333333,
              "#9c179e"
             ],
             [
              0.4444444444444444,
              "#bd3786"
             ],
             [
              0.5555555555555556,
              "#d8576b"
             ],
             [
              0.6666666666666666,
              "#ed7953"
             ],
             [
              0.7777777777777778,
              "#fb9f3a"
             ],
             [
              0.8888888888888888,
              "#fdca26"
             ],
             [
              1,
              "#f0f921"
             ]
            ],
            "type": "heatmap"
           }
          ],
          "heatmapgl": [
           {
            "colorbar": {
             "outlinewidth": 0,
             "ticks": ""
            },
            "colorscale": [
             [
              0,
              "#0d0887"
             ],
             [
              0.1111111111111111,
              "#46039f"
             ],
             [
              0.2222222222222222,
              "#7201a8"
             ],
             [
              0.3333333333333333,
              "#9c179e"
             ],
             [
              0.4444444444444444,
              "#bd3786"
             ],
             [
              0.5555555555555556,
              "#d8576b"
             ],
             [
              0.6666666666666666,
              "#ed7953"
             ],
             [
              0.7777777777777778,
              "#fb9f3a"
             ],
             [
              0.8888888888888888,
              "#fdca26"
             ],
             [
              1,
              "#f0f921"
             ]
            ],
            "type": "heatmapgl"
           }
          ],
          "histogram": [
           {
            "marker": {
             "pattern": {
              "fillmode": "overlay",
              "size": 10,
              "solidity": 0.2
             }
            },
            "type": "histogram"
           }
          ],
          "histogram2d": [
           {
            "colorbar": {
             "outlinewidth": 0,
             "ticks": ""
            },
            "colorscale": [
             [
              0,
              "#0d0887"
             ],
             [
              0.1111111111111111,
              "#46039f"
             ],
             [
              0.2222222222222222,
              "#7201a8"
             ],
             [
              0.3333333333333333,
              "#9c179e"
             ],
             [
              0.4444444444444444,
              "#bd3786"
             ],
             [
              0.5555555555555556,
              "#d8576b"
             ],
             [
              0.6666666666666666,
              "#ed7953"
             ],
             [
              0.7777777777777778,
              "#fb9f3a"
             ],
             [
              0.8888888888888888,
              "#fdca26"
             ],
             [
              1,
              "#f0f921"
             ]
            ],
            "type": "histogram2d"
           }
          ],
          "histogram2dcontour": [
           {
            "colorbar": {
             "outlinewidth": 0,
             "ticks": ""
            },
            "colorscale": [
             [
              0,
              "#0d0887"
             ],
             [
              0.1111111111111111,
              "#46039f"
             ],
             [
              0.2222222222222222,
              "#7201a8"
             ],
             [
              0.3333333333333333,
              "#9c179e"
             ],
             [
              0.4444444444444444,
              "#bd3786"
             ],
             [
              0.5555555555555556,
              "#d8576b"
             ],
             [
              0.6666666666666666,
              "#ed7953"
             ],
             [
              0.7777777777777778,
              "#fb9f3a"
             ],
             [
              0.8888888888888888,
              "#fdca26"
             ],
             [
              1,
              "#f0f921"
             ]
            ],
            "type": "histogram2dcontour"
           }
          ],
          "mesh3d": [
           {
            "colorbar": {
             "outlinewidth": 0,
             "ticks": ""
            },
            "type": "mesh3d"
           }
          ],
          "parcoords": [
           {
            "line": {
             "colorbar": {
              "outlinewidth": 0,
              "ticks": ""
             }
            },
            "type": "parcoords"
           }
          ],
          "pie": [
           {
            "automargin": true,
            "type": "pie"
           }
          ],
          "scatter": [
           {
            "fillpattern": {
             "fillmode": "overlay",
             "size": 10,
             "solidity": 0.2
            },
            "type": "scatter"
           }
          ],
          "scatter3d": [
           {
            "line": {
             "colorbar": {
              "outlinewidth": 0,
              "ticks": ""
             }
            },
            "marker": {
             "colorbar": {
              "outlinewidth": 0,
              "ticks": ""
             }
            },
            "type": "scatter3d"
           }
          ],
          "scattercarpet": [
           {
            "marker": {
             "colorbar": {
              "outlinewidth": 0,
              "ticks": ""
             }
            },
            "type": "scattercarpet"
           }
          ],
          "scattergeo": [
           {
            "marker": {
             "colorbar": {
              "outlinewidth": 0,
              "ticks": ""
             }
            },
            "type": "scattergeo"
           }
          ],
          "scattergl": [
           {
            "marker": {
             "colorbar": {
              "outlinewidth": 0,
              "ticks": ""
             }
            },
            "type": "scattergl"
           }
          ],
          "scattermapbox": [
           {
            "marker": {
             "colorbar": {
              "outlinewidth": 0,
              "ticks": ""
             }
            },
            "type": "scattermapbox"
           }
          ],
          "scatterpolar": [
           {
            "marker": {
             "colorbar": {
              "outlinewidth": 0,
              "ticks": ""
             }
            },
            "type": "scatterpolar"
           }
          ],
          "scatterpolargl": [
           {
            "marker": {
             "colorbar": {
              "outlinewidth": 0,
              "ticks": ""
             }
            },
            "type": "scatterpolargl"
           }
          ],
          "scatterternary": [
           {
            "marker": {
             "colorbar": {
              "outlinewidth": 0,
              "ticks": ""
             }
            },
            "type": "scatterternary"
           }
          ],
          "surface": [
           {
            "colorbar": {
             "outlinewidth": 0,
             "ticks": ""
            },
            "colorscale": [
             [
              0,
              "#0d0887"
             ],
             [
              0.1111111111111111,
              "#46039f"
             ],
             [
              0.2222222222222222,
              "#7201a8"
             ],
             [
              0.3333333333333333,
              "#9c179e"
             ],
             [
              0.4444444444444444,
              "#bd3786"
             ],
             [
              0.5555555555555556,
              "#d8576b"
             ],
             [
              0.6666666666666666,
              "#ed7953"
             ],
             [
              0.7777777777777778,
              "#fb9f3a"
             ],
             [
              0.8888888888888888,
              "#fdca26"
             ],
             [
              1,
              "#f0f921"
             ]
            ],
            "type": "surface"
           }
          ],
          "table": [
           {
            "cells": {
             "fill": {
              "color": "#EBF0F8"
             },
             "line": {
              "color": "white"
             }
            },
            "header": {
             "fill": {
              "color": "#C8D4E3"
             },
             "line": {
              "color": "white"
             }
            },
            "type": "table"
           }
          ]
         },
         "layout": {
          "annotationdefaults": {
           "arrowcolor": "#2a3f5f",
           "arrowhead": 0,
           "arrowwidth": 1
          },
          "autotypenumbers": "strict",
          "coloraxis": {
           "colorbar": {
            "outlinewidth": 0,
            "ticks": ""
           }
          },
          "colorscale": {
           "diverging": [
            [
             0,
             "#8e0152"
            ],
            [
             0.1,
             "#c51b7d"
            ],
            [
             0.2,
             "#de77ae"
            ],
            [
             0.3,
             "#f1b6da"
            ],
            [
             0.4,
             "#fde0ef"
            ],
            [
             0.5,
             "#f7f7f7"
            ],
            [
             0.6,
             "#e6f5d0"
            ],
            [
             0.7,
             "#b8e186"
            ],
            [
             0.8,
             "#7fbc41"
            ],
            [
             0.9,
             "#4d9221"
            ],
            [
             1,
             "#276419"
            ]
           ],
           "sequential": [
            [
             0,
             "#0d0887"
            ],
            [
             0.1111111111111111,
             "#46039f"
            ],
            [
             0.2222222222222222,
             "#7201a8"
            ],
            [
             0.3333333333333333,
             "#9c179e"
            ],
            [
             0.4444444444444444,
             "#bd3786"
            ],
            [
             0.5555555555555556,
             "#d8576b"
            ],
            [
             0.6666666666666666,
             "#ed7953"
            ],
            [
             0.7777777777777778,
             "#fb9f3a"
            ],
            [
             0.8888888888888888,
             "#fdca26"
            ],
            [
             1,
             "#f0f921"
            ]
           ],
           "sequentialminus": [
            [
             0,
             "#0d0887"
            ],
            [
             0.1111111111111111,
             "#46039f"
            ],
            [
             0.2222222222222222,
             "#7201a8"
            ],
            [
             0.3333333333333333,
             "#9c179e"
            ],
            [
             0.4444444444444444,
             "#bd3786"
            ],
            [
             0.5555555555555556,
             "#d8576b"
            ],
            [
             0.6666666666666666,
             "#ed7953"
            ],
            [
             0.7777777777777778,
             "#fb9f3a"
            ],
            [
             0.8888888888888888,
             "#fdca26"
            ],
            [
             1,
             "#f0f921"
            ]
           ]
          },
          "colorway": [
           "#636efa",
           "#EF553B",
           "#00cc96",
           "#ab63fa",
           "#FFA15A",
           "#19d3f3",
           "#FF6692",
           "#B6E880",
           "#FF97FF",
           "#FECB52"
          ],
          "font": {
           "color": "#2a3f5f"
          },
          "geo": {
           "bgcolor": "white",
           "lakecolor": "white",
           "landcolor": "#E5ECF6",
           "showlakes": true,
           "showland": true,
           "subunitcolor": "white"
          },
          "hoverlabel": {
           "align": "left"
          },
          "hovermode": "closest",
          "mapbox": {
           "style": "light"
          },
          "paper_bgcolor": "white",
          "plot_bgcolor": "#E5ECF6",
          "polar": {
           "angularaxis": {
            "gridcolor": "white",
            "linecolor": "white",
            "ticks": ""
           },
           "bgcolor": "#E5ECF6",
           "radialaxis": {
            "gridcolor": "white",
            "linecolor": "white",
            "ticks": ""
           }
          },
          "scene": {
           "xaxis": {
            "backgroundcolor": "#E5ECF6",
            "gridcolor": "white",
            "gridwidth": 2,
            "linecolor": "white",
            "showbackground": true,
            "ticks": "",
            "zerolinecolor": "white"
           },
           "yaxis": {
            "backgroundcolor": "#E5ECF6",
            "gridcolor": "white",
            "gridwidth": 2,
            "linecolor": "white",
            "showbackground": true,
            "ticks": "",
            "zerolinecolor": "white"
           },
           "zaxis": {
            "backgroundcolor": "#E5ECF6",
            "gridcolor": "white",
            "gridwidth": 2,
            "linecolor": "white",
            "showbackground": true,
            "ticks": "",
            "zerolinecolor": "white"
           }
          },
          "shapedefaults": {
           "line": {
            "color": "#2a3f5f"
           }
          },
          "ternary": {
           "aaxis": {
            "gridcolor": "white",
            "linecolor": "white",
            "ticks": ""
           },
           "baxis": {
            "gridcolor": "white",
            "linecolor": "white",
            "ticks": ""
           },
           "bgcolor": "#E5ECF6",
           "caxis": {
            "gridcolor": "white",
            "linecolor": "white",
            "ticks": ""
           }
          },
          "title": {
           "x": 0.05
          },
          "xaxis": {
           "automargin": true,
           "gridcolor": "white",
           "linecolor": "white",
           "ticks": "",
           "title": {
            "standoff": 15
           },
           "zerolinecolor": "white",
           "zerolinewidth": 2
          },
          "yaxis": {
           "automargin": true,
           "gridcolor": "white",
           "linecolor": "white",
           "ticks": "",
           "title": {
            "standoff": 15
           },
           "zerolinecolor": "white",
           "zerolinewidth": 2
          }
         }
        },
        "title": {
         "text": "Correct and Incorrect Classifications per Class"
        },
        "xaxis": {
         "title": {
          "text": "Number of Observations"
         }
        },
        "yaxis": {
         "title": {
          "text": "Classes"
         }
        }
       }
      }
     },
     "metadata": {},
     "output_type": "display_data"
    }
   ],
   "source": [
    "from sklearn.metrics import confusion_matrix\n",
    "import numpy as np\n",
    "import plotly.graph_objects as go\n",
    "\n",
    "# Make predictions using the best KNN model obtained from RandomizedSearchCV\n",
    "y_pred_knn = best_knn_random.predict(x_test_sub)\n",
    "\n",
    "# Compute the confusion matrix\n",
    "conf_matrix = confusion_matrix(y_test_sub, y_pred_knn)\n",
    "\n",
    "# Calculate correct and incorrect classifications for each class\n",
    "correct = np.diag(conf_matrix)\n",
    "incorrect = np.sum(conf_matrix, axis=1) - correct\n",
    "\n",
    "# Define CIFAR-10 classes\n",
    "classes = [\"Airplane\", \"Automobile\", \"Bird\", \"Cat\", \"Deer\", \"Dog\", \"Frog\", \"Horse\", \"Ship\", \"Truck\"]\n",
    "\n",
    "# Define colors for the bars\n",
    "light_blue = '#6699cc' \n",
    "dark_blue = '#abdbe3'\n",
    "\n",
    "# Create a horizontal stacked bar chart using Plotly\n",
    "fig = go.Figure(data=[\n",
    "    go.Bar(name='Correct', y=classes, x=correct, marker_color=light_blue, orientation='h'),\n",
    "    go.Bar(name='Incorrect', y=classes, x=incorrect, marker_color=dark_blue, orientation='h')\n",
    "])\n",
    "\n",
    "# Change the bar mode\n",
    "fig.update_layout(barmode='stack', title='KNN Correct and Incorrect Classifications per Class',\n",
    "                  yaxis_title='Classes', xaxis_title='Number of Observations')\n",
    "\n",
    "# Add labels to the bars\n",
    "for i in range(len(classes)):\n",
    "    fig.add_annotation(x=correct[i]/2, y=classes[i],\n",
    "                       text=str(correct[i]),\n",
    "                       showarrow=False,\n",
    "                       font=dict(color='white'))\n",
    "    fig.add_annotation(x=correct[i] + incorrect[i]/2, y=classes[i],\n",
    "                       text=str(incorrect[i]),\n",
    "                       showarrow=False,\n",
    "                       font=dict(color='white'))\n",
    "\n",
    "# Show the figure\n",
    "fig.show()\n"
   ]
  },
  {
   "cell_type": "code",
   "execution_count": 20,
   "metadata": {},
   "outputs": [
    {
     "name": "stdout",
     "output_type": "stream",
     "text": [
      "Correct Predictions:\n",
      "Class Airplane: 506\n",
      "Class Automobile: 189\n",
      "Class Bird: 379\n",
      "Class Cat: 148\n",
      "Class Deer: 468\n",
      "Class Dog: 248\n",
      "Class Frog: 318\n",
      "Class Horse: 224\n",
      "Class Ship: 656\n",
      "Class Truck: 195\n",
      "\n",
      "Incorrect Predictions:\n",
      "Actual: Airplane, Predicted: Automobile, Count: 7\n",
      "Actual: Airplane, Predicted: Bird, Count: 105\n",
      "Actual: Airplane, Predicted: Cat, Count: 12\n",
      "Actual: Airplane, Predicted: Deer, Count: 65\n",
      "Actual: Airplane, Predicted: Dog, Count: 9\n",
      "Actual: Airplane, Predicted: Frog, Count: 34\n",
      "Actual: Airplane, Predicted: Horse, Count: 8\n",
      "Actual: Airplane, Predicted: Ship, Count: 239\n",
      "Actual: Airplane, Predicted: Truck, Count: 15\n",
      "Actual: Automobile, Predicted: Airplane, Count: 93\n",
      "Actual: Automobile, Predicted: Bird, Count: 113\n",
      "Actual: Automobile, Predicted: Cat, Count: 36\n",
      "Actual: Automobile, Predicted: Deer, Count: 161\n",
      "Actual: Automobile, Predicted: Dog, Count: 50\n",
      "Actual: Automobile, Predicted: Frog, Count: 92\n",
      "Actual: Automobile, Predicted: Horse, Count: 25\n",
      "Actual: Automobile, Predicted: Ship, Count: 191\n",
      "Actual: Automobile, Predicted: Truck, Count: 50\n",
      "Actual: Bird, Predicted: Airplane, Count: 132\n",
      "Actual: Bird, Predicted: Automobile, Count: 1\n",
      "Actual: Bird, Predicted: Cat, Count: 39\n",
      "Actual: Bird, Predicted: Deer, Count: 244\n",
      "Actual: Bird, Predicted: Dog, Count: 45\n",
      "Actual: Bird, Predicted: Frog, Count: 85\n",
      "Actual: Bird, Predicted: Horse, Count: 13\n",
      "Actual: Bird, Predicted: Ship, Count: 59\n",
      "Actual: Bird, Predicted: Truck, Count: 3\n",
      "Actual: Cat, Predicted: Airplane, Count: 68\n",
      "Actual: Cat, Predicted: Automobile, Count: 6\n",
      "Actual: Cat, Predicted: Bird, Count: 203\n",
      "Actual: Cat, Predicted: Deer, Count: 201\n",
      "Actual: Cat, Predicted: Dog, Count: 117\n",
      "Actual: Cat, Predicted: Frog, Count: 151\n",
      "Actual: Cat, Predicted: Horse, Count: 30\n",
      "Actual: Cat, Predicted: Ship, Count: 58\n",
      "Actual: Cat, Predicted: Truck, Count: 18\n",
      "Actual: Deer, Predicted: Airplane, Count: 75\n",
      "Actual: Deer, Predicted: Automobile, Count: 1\n",
      "Actual: Deer, Predicted: Bird, Count: 244\n",
      "Actual: Deer, Predicted: Cat, Count: 22\n",
      "Actual: Deer, Predicted: Dog, Count: 30\n",
      "Actual: Deer, Predicted: Frog, Count: 82\n",
      "Actual: Deer, Predicted: Horse, Count: 23\n",
      "Actual: Deer, Predicted: Ship, Count: 54\n",
      "Actual: Deer, Predicted: Truck, Count: 1\n",
      "Actual: Dog, Predicted: Airplane, Count: 56\n",
      "Actual: Dog, Predicted: Automobile, Count: 3\n",
      "Actual: Dog, Predicted: Bird, Count: 182\n",
      "Actual: Dog, Predicted: Cat, Count: 121\n",
      "Actual: Dog, Predicted: Deer, Count: 182\n",
      "Actual: Dog, Predicted: Frog, Count: 123\n",
      "Actual: Dog, Predicted: Horse, Count: 25\n",
      "Actual: Dog, Predicted: Ship, Count: 55\n",
      "Actual: Dog, Predicted: Truck, Count: 5\n",
      "Actual: Frog, Predicted: Airplane, Count: 20\n",
      "Actual: Frog, Predicted: Automobile, Count: 3\n",
      "Actual: Frog, Predicted: Bird, Count: 243\n",
      "Actual: Frog, Predicted: Cat, Count: 49\n",
      "Actual: Frog, Predicted: Deer, Count: 272\n",
      "Actual: Frog, Predicted: Dog, Count: 53\n",
      "Actual: Frog, Predicted: Horse, Count: 11\n",
      "Actual: Frog, Predicted: Ship, Count: 30\n",
      "Actual: Frog, Predicted: Truck, Count: 1\n",
      "Actual: Horse, Predicted: Airplane, Count: 77\n",
      "Actual: Horse, Predicted: Automobile, Count: 10\n",
      "Actual: Horse, Predicted: Bird, Count: 148\n",
      "Actual: Horse, Predicted: Cat, Count: 42\n",
      "Actual: Horse, Predicted: Deer, Count: 269\n",
      "Actual: Horse, Predicted: Dog, Count: 68\n",
      "Actual: Horse, Predicted: Frog, Count: 69\n",
      "Actual: Horse, Predicted: Ship, Count: 72\n",
      "Actual: Horse, Predicted: Truck, Count: 21\n",
      "Actual: Ship, Predicted: Airplane, Count: 130\n",
      "Actual: Ship, Predicted: Automobile, Count: 17\n",
      "Actual: Ship, Predicted: Bird, Count: 46\n",
      "Actual: Ship, Predicted: Cat, Count: 28\n",
      "Actual: Ship, Predicted: Deer, Count: 53\n",
      "Actual: Ship, Predicted: Dog, Count: 24\n",
      "Actual: Ship, Predicted: Frog, Count: 23\n",
      "Actual: Ship, Predicted: Horse, Count: 10\n",
      "Actual: Ship, Predicted: Truck, Count: 13\n",
      "Actual: Truck, Predicted: Airplane, Count: 133\n",
      "Actual: Truck, Predicted: Automobile, Count: 66\n",
      "Actual: Truck, Predicted: Bird, Count: 76\n",
      "Actual: Truck, Predicted: Cat, Count: 22\n",
      "Actual: Truck, Predicted: Deer, Count: 105\n",
      "Actual: Truck, Predicted: Dog, Count: 35\n",
      "Actual: Truck, Predicted: Frog, Count: 82\n",
      "Actual: Truck, Predicted: Horse, Count: 37\n",
      "Actual: Truck, Predicted: Ship, Count: 249\n"
     ]
    }
   ],
   "source": [
    "from sklearn.metrics import confusion_matrix\n",
    "\n",
    "# Assuming y_test_sub contains the true labels and y_pred_knn contains the predictions\n",
    "conf_matrix = confusion_matrix(y_test_sub, y_pred_knn)\n",
    "\n",
    "# CIFAR-10 classes\n",
    "classes = [\"Airplane\", \"Automobile\", \"Bird\", \"Cat\", \"Deer\", \"Dog\", \"Frog\", \"Horse\", \"Ship\", \"Truck\"]\n",
    "\n",
    "# Initialize lists to store the results\n",
    "correct_predictions = []\n",
    "incorrect_predictions = []\n",
    "\n",
    "# Iterate over the confusion matrix\n",
    "for i in range(len(conf_matrix)):\n",
    "    for j in range(len(conf_matrix[i])):\n",
    "        if i == j:\n",
    "            # Correct predictions\n",
    "            correct_predictions.append((classes[i], conf_matrix[i][j]))\n",
    "        else:\n",
    "            # Incorrect predictions\n",
    "            if conf_matrix[i][j] > 0:  # Only include cases where there are misclassifications\n",
    "                incorrect_predictions.append((classes[i], classes[j], conf_matrix[i][j]))\n",
    "\n",
    "# Print the results\n",
    "print(\"Correct Predictions:\")\n",
    "for class_name, count in correct_predictions:\n",
    "    print(f\"Class {class_name}: {count}\")\n",
    "\n",
    "print(\"\\nIncorrect Predictions:\")\n",
    "for actual_class, predicted_class, count in incorrect_predictions:\n",
    "    print(f\"Actual: {actual_class}, Predicted: {predicted_class}, Count: {count}\")\n"
   ]
  },
  {
   "cell_type": "markdown",
   "metadata": {},
   "source": [
    "<div style=\"border-left: 5px solid #5DADE2; padding: 20px; background-color: #EAF2F8; font-family: Arial, sans-serif;\">\n",
    "  <h3 style=\"color: #2C3E50; border-bottom: 2px solid #5DADE2; display: inline-block; padding-bottom: 10px;\">KNN Model Evaluation on CIFAR-10:</h3>\n",
    "  <div style=\"width: 50%;\">\n",
    "    <ul style=\"list-style-type: none; padding-left: 0; color: #34495E;\">\n",
    "      <li style=\"margin-bottom: 10px;\">• The KNN model applied to the CIFAR-10 dataset exhibits mixed performance, with certain classes showing markedly better results than others. The overall test accuracy of 33.31%, precision of 39.68%, and F1 score of 32.24% suggest that while the model is somewhat effective in recognizing certain patterns and characteristics of the images, it struggles to consistently classify them correctly across all classes. The model performs best in identifying 'Ship', with 656 correct predictions, likely due to distinct features like the shape and color patterns. It also does relatively well with 'Airplane' and 'Deer'. However, it shows the weakest performance for 'Cat' and 'Truck', potentially due to higher variability within these classes or similarities with features of other classes.\n",
    "\n",
    "A significant number of 'Airplane' images are misclassified as 'Ship', and there is notable confusion between 'Automobile' and 'Truck', likely due to their structural similarities. Many misclassifications can be attributed to similar appearances and background influence, like ships and airplanes often having sky or water backgrounds. High variability within a class can also make it challenging for the model to generalize effectively.\n",
    "\n",
    "While the KNN model demonstrates an ability to distinguish certain classes effectively, it is evident that it struggles with classes that share similar features or have high intra-class variability. To improve performance, considering a more sophisticated model or incorporating techniques like feature extraction and dimensionality reduction might be beneficial. Additionally, fine-tuning the model's hyperparameters could help, but there's a limit to how much this can mitigate the inherent limitations of the KNN algorithm when dealing with complex image datasets like CIFAR-10.</li>\n",
    "    </ul>\n",
    "  </div>\n",
    "</div>\n"
   ]
  },
  {
   "cell_type": "markdown",
   "metadata": {},
   "source": [
    "<div style=\"border: 5px solid #000080; padding: 10px;\">\n",
    "<h3></h3>\n",
    "</div>"
   ]
  },
  {
   "cell_type": "markdown",
   "metadata": {},
   "source": [
    "<div style=\"border: 5px solid #5DADE2; background-color: #EAF2F8; padding: 40px; font-family: 'Arial', sans-serif;\">\n",
    "    <h2 style=\"color: #34495E; font-size: 48px; margin: 0;\">2. Multi-class Logistic Regression </h2>\n",
    "</div>"
   ]
  },
  {
   "cell_type": "markdown",
   "metadata": {},
   "source": [
    "<div style=\"border: 5px solid #000080; padding: 10px;\">\n",
    "<h3></h3>\n",
    "</div>"
   ]
  },
  {
   "cell_type": "markdown",
   "metadata": {},
   "source": [
    "<div style=\"border-left: 5px solid #5DADE2; padding: 15px; background-color: #EAF2F8; font-family: Arial, sans-serif;\">\n",
    "\n",
    "\n",
    "\n",
    "<ul style=\"list-style-type: none; padding-left: 0; color: #34495E;\">\n",
    "    <li style=\"margin-bottom: 10px;\">• <b>Note:</b> Hyperparamater tuning for this model was inconclusive. It would not converge correctly, even when evaluated for multiple hours</li>\n",
    "   \n",
    "</ul>"
   ]
  },
  {
   "cell_type": "code",
   "execution_count": 5,
   "metadata": {},
   "outputs": [
    {
     "data": {
      "image/png": "[encoded data removed]",
      "text/plain": [
       "<Figure size 1000x800 with 2 Axes>"
      ]
     },
     "metadata": {},
     "output_type": "display_data"
    },
    {
     "data": {
      "text/html": [
       "<div>\n",
       "<style scoped>\n",
       "    .dataframe tbody tr th:only-of-type {\n",
       "        vertical-align: middle;\n",
       "    }\n",
       "\n",
       "    .dataframe tbody tr th {\n",
       "        vertical-align: top;\n",
       "    }\n",
       "\n",
       "    .dataframe thead th {\n",
       "        text-align: right;\n",
       "    }\n",
       "</style>\n",
       "<table border=\"1\" class=\"dataframe\">\n",
       "  <thead>\n",
       "    <tr style=\"text-align: right;\">\n",
       "      <th></th>\n",
       "      <th>Model</th>\n",
       "      <th>Train Accuracy</th>\n",
       "      <th>Test Accuracy</th>\n",
       "      <th>Precision</th>\n",
       "      <th>Recall</th>\n",
       "      <th>F1 Score</th>\n",
       "      <th>Execution Time</th>\n",
       "    </tr>\n",
       "  </thead>\n",
       "  <tbody>\n",
       "    <tr>\n",
       "      <th>0</th>\n",
       "      <td>Logistic Regression</td>\n",
       "      <td>0.6659</td>\n",
       "      <td>0.3286</td>\n",
       "      <td>0.325975</td>\n",
       "      <td>0.3286</td>\n",
       "      <td>0.326851</td>\n",
       "      <td>00:01:13</td>\n",
       "    </tr>\n",
       "  </tbody>\n",
       "</table>\n",
       "</div>"
      ],
      "text/plain": [
       "                 Model  Train Accuracy  Test Accuracy  Precision  Recall  \\\n",
       "0  Logistic Regression          0.6659         0.3286   0.325975  0.3286   \n",
       "\n",
       "   F1 Score Execution Time  \n",
       "0  0.326851       00:01:13  "
      ]
     },
     "execution_count": 5,
     "metadata": {},
     "output_type": "execute_result"
    }
   ],
   "source": [
    "# Start timing\n",
    "start_time_log = time.time()\n",
    "\n",
    "# Load CIFAR-10 data\n",
    "(x_train, y_train), (x_test, y_test) = cifar10.load_data()\n",
    "\n",
    "# Flatten and normalize the data\n",
    "num_pixels = x_train.shape[1] * x_train.shape[2] * x_train.shape[3]\n",
    "x_train_flat = x_train.reshape(x_train.shape[0], num_pixels).astype('float32') / 255\n",
    "x_test_flat = x_test.reshape(x_test.shape[0], num_pixels).astype('float32') / 255\n",
    "y_train_flat = y_train.ravel()\n",
    "y_test_flat = y_test.ravel()\n",
    "\n",
    "# Sample size for training\n",
    "sample_size = 10000\n",
    "\n",
    "# Randomly select a subset of samples from the training data\n",
    "x_train_sub, _, y_train_sub, _ = train_test_split(x_train_flat, y_train_flat, train_size=sample_size, random_state=42)\n",
    "\n",
    "# Use the entire test set\n",
    "x_test_sub = x_test_flat\n",
    "y_test_sub = y_test_flat\n",
    "\n",
    "# Define the best parameters \n",
    "best_params_log = {'C': 1.0, 'solver': 'lbfgs', 'max_iter': 1000, 'multi_class': 'ovr'}\n",
    "\n",
    "# Initialize Logistic Regression with the best parameters\n",
    "best_log = LogisticRegression(**best_params_log)\n",
    "best_log.fit(x_train_sub, y_train_sub)\n",
    "\n",
    "# Predictions and accuracy evaluations using best_log\n",
    "y_pred_log = best_log.predict(x_test_sub)\n",
    "train_accuracy_log = accuracy_score(y_train_sub, best_log.predict(x_train_sub))\n",
    "test_accuracy_log = accuracy_score(y_test_sub, y_pred_log)\n",
    "\n",
    "# Metrics\n",
    "precision_log = precision_score(y_test_sub, y_pred_log, average='macro')\n",
    "recall_log = recall_score(y_test_sub, y_pred_log, average='macro')\n",
    "f1_score_log = f1_score(y_test_sub, y_pred_log, average='macro')\n",
    "\n",
    "# End timing\n",
    "end_time_log = time.time()\n",
    "total_time_log = end_time_log - start_time_log\n",
    "\n",
    "# Format time\n",
    "hours, remainder = divmod(total_time_log, 3600)\n",
    "minutes, seconds = divmod(remainder, 60)\n",
    "time_formatted_log = \"{:02}:{:02}:{:02}\".format(int(hours), int(minutes), int(seconds))\n",
    "\n",
    "# Create results DataFrame for Logistic Regression\n",
    "results_data_log = {\n",
    "    'Model': ['Logistic Regression'],\n",
    "    'Train Accuracy': [train_accuracy_log],\n",
    "    'Test Accuracy': [test_accuracy_log],\n",
    "    'Precision': [precision_log],\n",
    "    'Recall': [recall_log],\n",
    "    'F1 Score': [f1_score_log],\n",
    "    'Execution Time': [time_formatted_log]  \n",
    "}\n",
    "\n",
    "Results_log = pd.DataFrame(results_data_log)\n",
    "# Define CIFAR-10 classes\n",
    "classes = [\"Airplane\", \"Automobile\", \"Bird\", \"Cat\", \"Deer\", \"Dog\", \"Frog\", \"Horse\", \"Ship\", \"Truck\"]\n",
    "# Confusion matrix for Logistic Regression\n",
    "conf_matrix_log = confusion_matrix(y_test_sub, y_pred_log)\n",
    "\n",
    "# Create a heatmap using seaborn to visualize the confusion matrix\n",
    "plt.figure(figsize=(10, 8))\n",
    "sns.heatmap(conf_matrix_log, annot=True, fmt='g', cmap='Blues', \n",
    "            xticklabels=classes, yticklabels=classes)\n",
    "\n",
    "plt.xlabel('Predicted labels')\n",
    "plt.ylabel('True labels')\n",
    "plt.title('Confusion Matrix of Logistic Regression on CIFAR-10')\n",
    "plt.show()\n",
    "Results_log\n"
   ]
  },
  {
   "cell_type": "markdown",
   "metadata": {},
   "source": [
    "<div style=\"border-left: 5px solid #5DADE2; padding: 15px; background-color: #EAF2F8; font-family: Arial, sans-serif;\">\n",
    "  <h3 style=\"color: #2C3E50; border-bottom: 2px solid #5DADE2; display: inline-block; padding-bottom: 10px;\">Logistic Regression Model Performance on CIFAR-10:</h3>\n",
    "  <ul style=\"list-style-type: none; padding-left: 0; color: #34495E;\">\n",
    "    <li style=\"margin-bottom: 10px;\">• The model achieved a train accuracy of 0.6659, indicating good performance on the training set.</li>\n",
    "    <li style=\"margin-bottom: 10px;\">• The test accuracy is 0.3286, suggesting that the model correctly classified approximately 32.86% of the test dataset.</li>\n",
    "    <li style=\"margin-bottom: 10px;\">• The precision of the model is 0.325975, reflecting the proportion of true positive predictions among all positive predictions.</li>\n",
    "    <li style=\"margin-bottom: 10px;\">• The recall of the model is 0.3286, indicating the proportion of actual positives that were correctly identified.</li>\n",
    "    <li style=\"margin-bottom: 10px;\">• The F1 Score, which balances precision and recall, stands at 0.326851.</li>\n",
    "    <li style=\"margin-bottom: 10px;\">• The execution time for the model was 01 minute and 13 seconds, showcasing the logistic regression algorithm's computational efficiency for this dataset.</li>\n",
    "  </ul>\n",
    "</div>\n"
   ]
  },
  {
   "cell_type": "code",
   "execution_count": 10,
   "metadata": {},
   "outputs": [
    {
     "name": "stdout",
     "output_type": "stream",
     "text": [
      "Correct Predictions:\n",
      "Class Airplane: 417\n",
      "Class Automobile: 376\n",
      "Class Bird: 251\n",
      "Class Cat: 186\n",
      "Class Deer: 266\n",
      "Class Dog: 275\n",
      "Class Frog: 356\n",
      "Class Horse: 365\n",
      "Class Ship: 466\n",
      "Class Truck: 328\n",
      "\n",
      "Incorrect Predictions:\n",
      "Actual: Airplane, Predicted: Automobile, Count: 56\n",
      "Actual: Airplane, Predicted: Bird, Count: 55\n",
      "Actual: Airplane, Predicted: Cat, Count: 53\n",
      "Actual: Airplane, Predicted: Deer, Count: 40\n",
      "Actual: Airplane, Predicted: Dog, Count: 35\n",
      "Actual: Airplane, Predicted: Frog, Count: 28\n",
      "Actual: Airplane, Predicted: Horse, Count: 60\n",
      "Actual: Airplane, Predicted: Ship, Count: 177\n",
      "Actual: Airplane, Predicted: Truck, Count: 79\n",
      "Actual: Automobile, Predicted: Airplane, Count: 62\n",
      "Actual: Automobile, Predicted: Bird, Count: 42\n",
      "Actual: Automobile, Predicted: Cat, Count: 52\n",
      "Actual: Automobile, Predicted: Deer, Count: 45\n",
      "Actual: Automobile, Predicted: Dog, Count: 44\n",
      "Actual: Automobile, Predicted: Frog, Count: 51\n",
      "Actual: Automobile, Predicted: Horse, Count: 70\n",
      "Actual: Automobile, Predicted: Ship, Count: 102\n",
      "Actual: Automobile, Predicted: Truck, Count: 156\n",
      "Actual: Bird, Predicted: Airplane, Count: 100\n",
      "Actual: Bird, Predicted: Automobile, Count: 40\n",
      "Actual: Bird, Predicted: Cat, Count: 86\n",
      "Actual: Bird, Predicted: Deer, Count: 108\n",
      "Actual: Bird, Predicted: Dog, Count: 113\n",
      "Actual: Bird, Predicted: Frog, Count: 128\n",
      "Actual: Bird, Predicted: Horse, Count: 93\n",
      "Actual: Bird, Predicted: Ship, Count: 46\n",
      "Actual: Bird, Predicted: Truck, Count: 35\n",
      "Actual: Cat, Predicted: Airplane, Count: 53\n",
      "Actual: Cat, Predicted: Automobile, Count: 64\n",
      "Actual: Cat, Predicted: Bird, Count: 106\n",
      "Actual: Cat, Predicted: Deer, Count: 104\n",
      "Actual: Cat, Predicted: Dog, Count: 187\n",
      "Actual: Cat, Predicted: Frog, Count: 122\n",
      "Actual: Cat, Predicted: Horse, Count: 73\n",
      "Actual: Cat, Predicted: Ship, Count: 51\n",
      "Actual: Cat, Predicted: Truck, Count: 54\n",
      "Actual: Deer, Predicted: Airplane, Count: 48\n",
      "Actual: Deer, Predicted: Automobile, Count: 22\n",
      "Actual: Deer, Predicted: Bird, Count: 138\n",
      "Actual: Deer, Predicted: Cat, Count: 95\n",
      "Actual: Deer, Predicted: Dog, Count: 82\n",
      "Actual: Deer, Predicted: Frog, Count: 147\n",
      "Actual: Deer, Predicted: Horse, Count: 125\n",
      "Actual: Deer, Predicted: Ship, Count: 42\n",
      "Actual: Deer, Predicted: Truck, Count: 35\n",
      "Actual: Dog, Predicted: Airplane, Count: 52\n",
      "Actual: Dog, Predicted: Automobile, Count: 43\n",
      "Actual: Dog, Predicted: Bird, Count: 113\n",
      "Actual: Dog, Predicted: Cat, Count: 140\n",
      "Actual: Dog, Predicted: Deer, Count: 81\n",
      "Actual: Dog, Predicted: Frog, Count: 98\n",
      "Actual: Dog, Predicted: Horse, Count: 104\n",
      "Actual: Dog, Predicted: Ship, Count: 60\n",
      "Actual: Dog, Predicted: Truck, Count: 34\n",
      "Actual: Frog, Predicted: Airplane, Count: 20\n",
      "Actual: Frog, Predicted: Automobile, Count: 43\n",
      "Actual: Frog, Predicted: Bird, Count: 102\n",
      "Actual: Frog, Predicted: Cat, Count: 144\n",
      "Actual: Frog, Predicted: Deer, Count: 129\n",
      "Actual: Frog, Predicted: Dog, Count: 101\n",
      "Actual: Frog, Predicted: Horse, Count: 46\n",
      "Actual: Frog, Predicted: Ship, Count: 29\n",
      "Actual: Frog, Predicted: Truck, Count: 30\n",
      "Actual: Horse, Predicted: Airplane, Count: 49\n",
      "Actual: Horse, Predicted: Automobile, Count: 52\n",
      "Actual: Horse, Predicted: Bird, Count: 79\n",
      "Actual: Horse, Predicted: Cat, Count: 61\n",
      "Actual: Horse, Predicted: Deer, Count: 108\n",
      "Actual: Horse, Predicted: Dog, Count: 90\n",
      "Actual: Horse, Predicted: Frog, Count: 62\n",
      "Actual: Horse, Predicted: Ship, Count: 52\n",
      "Actual: Horse, Predicted: Truck, Count: 82\n",
      "Actual: Ship, Predicted: Airplane, Count: 159\n",
      "Actual: Ship, Predicted: Automobile, Count: 78\n",
      "Actual: Ship, Predicted: Bird, Count: 29\n",
      "Actual: Ship, Predicted: Cat, Count: 45\n",
      "Actual: Ship, Predicted: Deer, Count: 21\n",
      "Actual: Ship, Predicted: Dog, Count: 52\n",
      "Actual: Ship, Predicted: Frog, Count: 19\n",
      "Actual: Ship, Predicted: Horse, Count: 36\n",
      "Actual: Ship, Predicted: Truck, Count: 95\n",
      "Actual: Truck, Predicted: Airplane, Count: 75\n",
      "Actual: Truck, Predicted: Automobile, Count: 175\n",
      "Actual: Truck, Predicted: Bird, Count: 56\n",
      "Actual: Truck, Predicted: Cat, Count: 37\n",
      "Actual: Truck, Predicted: Deer, Count: 40\n",
      "Actual: Truck, Predicted: Dog, Count: 37\n",
      "Actual: Truck, Predicted: Frog, Count: 53\n",
      "Actual: Truck, Predicted: Horse, Count: 74\n",
      "Actual: Truck, Predicted: Ship, Count: 125\n"
     ]
    }
   ],
   "source": [
    "conf_matrix_log = confusion_matrix(y_test_sub, y_pred_log)\n",
    "\n",
    "# CIFAR-10 classes\n",
    "classes = [\"Airplane\", \"Automobile\", \"Bird\", \"Cat\", \"Deer\", \"Dog\", \"Frog\", \"Horse\", \"Ship\", \"Truck\"]\n",
    "\n",
    "# Initialize lists to store the results\n",
    "correct_predictions_log = []\n",
    "incorrect_predictions_log = []\n",
    "\n",
    "# Iterate over the confusion matrix\n",
    "for i in range(len(conf_matrix_log)):\n",
    "    for j in range(len(conf_matrix_log[i])):\n",
    "        if i == j:\n",
    "            # Correct predictions\n",
    "            correct_predictions_log.append((classes[i], conf_matrix_log[i][j]))\n",
    "        else:\n",
    "            # Incorrect predictions\n",
    "            if conf_matrix_log[i][j] > 0:  # Only include cases where there are misclassifications\n",
    "                incorrect_predictions_log.append((classes[i], classes[j], conf_matrix_log[i][j]))\n",
    "\n",
    "# Print the results\n",
    "print(\"Correct Predictions:\")\n",
    "for class_name, count in correct_predictions_log:\n",
    "    print(f\"Class {class_name}: {count}\")\n",
    "\n",
    "print(\"\\nIncorrect Predictions:\")\n",
    "for actual_class, predicted_class, count in incorrect_predictions_log:\n",
    "    print(f\"Actual: {actual_class}, Predicted: {predicted_class}, Count: {count}\")\n"
   ]
  },
  {
   "cell_type": "code",
   "execution_count": null,
   "metadata": {},
   "outputs": [],
   "source": [
    "\n",
    "\n",
    "conf_matrix_log = confusion_matrix(y_test_sub, y_pred_log)\n",
    "\n",
    "# CIFAR-10 classes\n",
    "classes = [\"Airplane\", \"Automobile\", \"Bird\", \"Cat\", \"Deer\", \"Dog\", \"Frog\", \"Horse\", \"Ship\", \"Truck\"]\n",
    "\n",
    "# Initialize lists to store the results\n",
    "correct_predictions_log = []\n",
    "incorrect_predictions_log = []\n",
    "\n",
    "# Iterate over the confusion matrix\n",
    "for i in range(len(conf_matrix_log)):\n",
    "    for j in range(len(conf_matrix_log[i])):\n",
    "        if i == j:\n",
    "            # Correct predictions\n",
    "            correct_predictions_log.append((classes[i], conf_matrix_log[i][j]))\n",
    "        else:\n",
    "            # Incorrect predictions\n",
    "            if conf_matrix_log[i][j] > 0:  # Only include cases where there are misclassifications\n",
    "                incorrect_predictions_log.append((classes[i], classes[j], conf_matrix_log[i][j]))\n",
    "\n",
    "# Print the results\n",
    "print(\"Correct Predictions:\")\n",
    "for class_name, count in correct_predictions_log:\n",
    "    print(f\"Class {class_name}: {count}\")\n",
    "\n",
    "print(\"\\nIncorrect Predictions:\")\n",
    "for actual_class, predicted_class, count in incorrect_predictions_log:\n",
    "    print(f\"Actual: {actual_class}, Predicted: {predicted_class}, Count: {count}\")\n"
   ]
  },
  {
   "cell_type": "code",
   "execution_count": 6,
   "metadata": {},
   "outputs": [
    {
     "data": {
      "application/vnd.plotly.v1+json": {
       "config": {
        "plotlyServerURL": "https://plot.ly"
       },
       "data": [
        {
         "marker": {
          "color": "#6699cc"
         },
         "name": "Correct",
         "orientation": "h",
         "type": "bar",
         "x": [
          417,
          376,
          251,
          186,
          266,
          275,
          356,
          365,
          466,
          328
         ],
         "y": [
          "Airplane",
          "Automobile",
          "Bird",
          "Cat",
          "Deer",
          "Dog",
          "Frog",
          "Horse",
          "Ship",
          "Truck"
         ]
        },
        {
         "marker": {
          "color": "#abdbe3"
         },
         "name": "Incorrect",
         "orientation": "h",
         "type": "bar",
         "x": [
          583,
          624,
          749,
          814,
          734,
          725,
          644,
          635,
          534,
          672
         ],
         "y": [
          "Airplane",
          "Automobile",
          "Bird",
          "Cat",
          "Deer",
          "Dog",
          "Frog",
          "Horse",
          "Ship",
          "Truck"
         ]
        }
       ],
       "layout": {
        "annotations": [
         {
          "font": {
           "color": "white"
          },
          "showarrow": false,
          "text": "417",
          "x": 208.5,
          "y": "Airplane"
         },
         {
          "font": {
           "color": "white"
          },
          "showarrow": false,
          "text": "583",
          "x": 708.5,
          "y": "Airplane"
         },
         {
          "font": {
           "color": "white"
          },
          "showarrow": false,
          "text": "376",
          "x": 188,
          "y": "Automobile"
         },
         {
          "font": {
           "color": "white"
          },
          "showarrow": false,
          "text": "624",
          "x": 688,
          "y": "Automobile"
         },
         {
          "font": {
           "color": "white"
          },
          "showarrow": false,
          "text": "251",
          "x": 125.5,
          "y": "Bird"
         },
         {
          "font": {
           "color": "white"
          },
          "showarrow": false,
          "text": "749",
          "x": 625.5,
          "y": "Bird"
         },
         {
          "font": {
           "color": "white"
          },
          "showarrow": false,
          "text": "186",
          "x": 93,
          "y": "Cat"
         },
         {
          "font": {
           "color": "white"
          },
          "showarrow": false,
          "text": "814",
          "x": 593,
          "y": "Cat"
         },
         {
          "font": {
           "color": "white"
          },
          "showarrow": false,
          "text": "266",
          "x": 133,
          "y": "Deer"
         },
         {
          "font": {
           "color": "white"
          },
          "showarrow": false,
          "text": "734",
          "x": 633,
          "y": "Deer"
         },
         {
          "font": {
           "color": "white"
          },
          "showarrow": false,
          "text": "275",
          "x": 137.5,
          "y": "Dog"
         },
         {
          "font": {
           "color": "white"
          },
          "showarrow": false,
          "text": "725",
          "x": 637.5,
          "y": "Dog"
         },
         {
          "font": {
           "color": "white"
          },
          "showarrow": false,
          "text": "356",
          "x": 178,
          "y": "Frog"
         },
         {
          "font": {
           "color": "white"
          },
          "showarrow": false,
          "text": "644",
          "x": 678,
          "y": "Frog"
         },
         {
          "font": {
           "color": "white"
          },
          "showarrow": false,
          "text": "365",
          "x": 182.5,
          "y": "Horse"
         },
         {
          "font": {
           "color": "white"
          },
          "showarrow": false,
          "text": "635",
          "x": 682.5,
          "y": "Horse"
         },
         {
          "font": {
           "color": "white"
          },
          "showarrow": false,
          "text": "466",
          "x": 233,
          "y": "Ship"
         },
         {
          "font": {
           "color": "white"
          },
          "showarrow": false,
          "text": "534",
          "x": 733,
          "y": "Ship"
         },
         {
          "font": {
           "color": "white"
          },
          "showarrow": false,
          "text": "328",
          "x": 164,
          "y": "Truck"
         },
         {
          "font": {
           "color": "white"
          },
          "showarrow": false,
          "text": "672",
          "x": 664,
          "y": "Truck"
         }
        ],
        "barmode": "stack",
        "template": {
         "data": {
          "bar": [
           {
            "error_x": {
             "color": "#2a3f5f"
            },
            "error_y": {
             "color": "#2a3f5f"
            },
            "marker": {
             "line": {
              "color": "#E5ECF6",
              "width": 0.5
             },
             "pattern": {
              "fillmode": "overlay",
              "size": 10,
              "solidity": 0.2
             }
            },
            "type": "bar"
           }
          ],
          "barpolar": [
           {
            "marker": {
             "line": {
              "color": "#E5ECF6",
              "width": 0.5
             },
             "pattern": {
              "fillmode": "overlay",
              "size": 10,
              "solidity": 0.2
             }
            },
            "type": "barpolar"
           }
          ],
          "carpet": [
           {
            "aaxis": {
             "endlinecolor": "#2a3f5f",
             "gridcolor": "white",
             "linecolor": "white",
             "minorgridcolor": "white",
             "startlinecolor": "#2a3f5f"
            },
            "baxis": {
             "endlinecolor": "#2a3f5f",
             "gridcolor": "white",
             "linecolor": "white",
             "minorgridcolor": "white",
             "startlinecolor": "#2a3f5f"
            },
            "type": "carpet"
           }
          ],
          "choropleth": [
           {
            "colorbar": {
             "outlinewidth": 0,
             "ticks": ""
            },
            "type": "choropleth"
           }
          ],
          "contour": [
           {
            "colorbar": {
             "outlinewidth": 0,
             "ticks": ""
            },
            "colorscale": [
             [
              0,
              "#0d0887"
             ],
             [
              0.1111111111111111,
              "#46039f"
             ],
             [
              0.2222222222222222,
              "#7201a8"
             ],
             [
              0.3333333333333333,
              "#9c179e"
             ],
             [
              0.4444444444444444,
              "#bd3786"
             ],
             [
              0.5555555555555556,
              "#d8576b"
             ],
             [
              0.6666666666666666,
              "#ed7953"
             ],
             [
              0.7777777777777778,
              "#fb9f3a"
             ],
             [
              0.8888888888888888,
              "#fdca26"
             ],
             [
              1,
              "#f0f921"
             ]
            ],
            "type": "contour"
           }
          ],
          "contourcarpet": [
           {
            "colorbar": {
             "outlinewidth": 0,
             "ticks": ""
            },
            "type": "contourcarpet"
           }
          ],
          "heatmap": [
           {
            "colorbar": {
             "outlinewidth": 0,
             "ticks": ""
            },
            "colorscale": [
             [
              0,
              "#0d0887"
             ],
             [
              0.1111111111111111,
              "#46039f"
             ],
             [
              0.2222222222222222,
              "#7201a8"
             ],
             [
              0.3333333333333333,
              "#9c179e"
             ],
             [
              0.4444444444444444,
              "#bd3786"
             ],
             [
              0.5555555555555556,
              "#d8576b"
             ],
             [
              0.6666666666666666,
              "#ed7953"
             ],
             [
              0.7777777777777778,
              "#fb9f3a"
             ],
             [
              0.8888888888888888,
              "#fdca26"
             ],
             [
              1,
              "#f0f921"
             ]
            ],
            "type": "heatmap"
           }
          ],
          "heatmapgl": [
           {
            "colorbar": {
             "outlinewidth": 0,
             "ticks": ""
            },
            "colorscale": [
             [
              0,
              "#0d0887"
             ],
             [
              0.1111111111111111,
              "#46039f"
             ],
             [
              0.2222222222222222,
              "#7201a8"
             ],
             [
              0.3333333333333333,
              "#9c179e"
             ],
             [
              0.4444444444444444,
              "#bd3786"
             ],
             [
              0.5555555555555556,
              "#d8576b"
             ],
             [
              0.6666666666666666,
              "#ed7953"
             ],
             [
              0.7777777777777778,
              "#fb9f3a"
             ],
             [
              0.8888888888888888,
              "#fdca26"
             ],
             [
              1,
              "#f0f921"
             ]
            ],
            "type": "heatmapgl"
           }
          ],
          "histogram": [
           {
            "marker": {
             "pattern": {
              "fillmode": "overlay",
              "size": 10,
              "solidity": 0.2
             }
            },
            "type": "histogram"
           }
          ],
          "histogram2d": [
           {
            "colorbar": {
             "outlinewidth": 0,
             "ticks": ""
            },
            "colorscale": [
             [
              0,
              "#0d0887"
             ],
             [
              0.1111111111111111,
              "#46039f"
             ],
             [
              0.2222222222222222,
              "#7201a8"
             ],
             [
              0.3333333333333333,
              "#9c179e"
             ],
             [
              0.4444444444444444,
              "#bd3786"
             ],
             [
              0.5555555555555556,
              "#d8576b"
             ],
             [
              0.6666666666666666,
              "#ed7953"
             ],
             [
              0.7777777777777778,
              "#fb9f3a"
             ],
             [
              0.8888888888888888,
              "#fdca26"
             ],
             [
              1,
              "#f0f921"
             ]
            ],
            "type": "histogram2d"
           }
          ],
          "histogram2dcontour": [
           {
            "colorbar": {
             "outlinewidth": 0,
             "ticks": ""
            },
            "colorscale": [
             [
              0,
              "#0d0887"
             ],
             [
              0.1111111111111111,
              "#46039f"
             ],
             [
              0.2222222222222222,
              "#7201a8"
             ],
             [
              0.3333333333333333,
              "#9c179e"
             ],
             [
              0.4444444444444444,
              "#bd3786"
             ],
             [
              0.5555555555555556,
              "#d8576b"
             ],
             [
              0.6666666666666666,
              "#ed7953"
             ],
             [
              0.7777777777777778,
              "#fb9f3a"
             ],
             [
              0.8888888888888888,
              "#fdca26"
             ],
             [
              1,
              "#f0f921"
             ]
            ],
            "type": "histogram2dcontour"
           }
          ],
          "mesh3d": [
           {
            "colorbar": {
             "outlinewidth": 0,
             "ticks": ""
            },
            "type": "mesh3d"
           }
          ],
          "parcoords": [
           {
            "line": {
             "colorbar": {
              "outlinewidth": 0,
              "ticks": ""
             }
            },
            "type": "parcoords"
           }
          ],
          "pie": [
           {
            "automargin": true,
            "type": "pie"
           }
          ],
          "scatter": [
           {
            "fillpattern": {
             "fillmode": "overlay",
             "size": 10,
             "solidity": 0.2
            },
            "type": "scatter"
           }
          ],
          "scatter3d": [
           {
            "line": {
             "colorbar": {
              "outlinewidth": 0,
              "ticks": ""
             }
            },
            "marker": {
             "colorbar": {
              "outlinewidth": 0,
              "ticks": ""
             }
            },
            "type": "scatter3d"
           }
          ],
          "scattercarpet": [
           {
            "marker": {
             "colorbar": {
              "outlinewidth": 0,
              "ticks": ""
             }
            },
            "type": "scattercarpet"
           }
          ],
          "scattergeo": [
           {
            "marker": {
             "colorbar": {
              "outlinewidth": 0,
              "ticks": ""
             }
            },
            "type": "scattergeo"
           }
          ],
          "scattergl": [
           {
            "marker": {
             "colorbar": {
              "outlinewidth": 0,
              "ticks": ""
             }
            },
            "type": "scattergl"
           }
          ],
          "scattermapbox": [
           {
            "marker": {
             "colorbar": {
              "outlinewidth": 0,
              "ticks": ""
             }
            },
            "type": "scattermapbox"
           }
          ],
          "scatterpolar": [
           {
            "marker": {
             "colorbar": {
              "outlinewidth": 0,
              "ticks": ""
             }
            },
            "type": "scatterpolar"
           }
          ],
          "scatterpolargl": [
           {
            "marker": {
             "colorbar": {
              "outlinewidth": 0,
              "ticks": ""
             }
            },
            "type": "scatterpolargl"
           }
          ],
          "scatterternary": [
           {
            "marker": {
             "colorbar": {
              "outlinewidth": 0,
              "ticks": ""
             }
            },
            "type": "scatterternary"
           }
          ],
          "surface": [
           {
            "colorbar": {
             "outlinewidth": 0,
             "ticks": ""
            },
            "colorscale": [
             [
              0,
              "#0d0887"
             ],
             [
              0.1111111111111111,
              "#46039f"
             ],
             [
              0.2222222222222222,
              "#7201a8"
             ],
             [
              0.3333333333333333,
              "#9c179e"
             ],
             [
              0.4444444444444444,
              "#bd3786"
             ],
             [
              0.5555555555555556,
              "#d8576b"
             ],
             [
              0.6666666666666666,
              "#ed7953"
             ],
             [
              0.7777777777777778,
              "#fb9f3a"
             ],
             [
              0.8888888888888888,
              "#fdca26"
             ],
             [
              1,
              "#f0f921"
             ]
            ],
            "type": "surface"
           }
          ],
          "table": [
           {
            "cells": {
             "fill": {
              "color": "#EBF0F8"
             },
             "line": {
              "color": "white"
             }
            },
            "header": {
             "fill": {
              "color": "#C8D4E3"
             },
             "line": {
              "color": "white"
             }
            },
            "type": "table"
           }
          ]
         },
         "layout": {
          "annotationdefaults": {
           "arrowcolor": "#2a3f5f",
           "arrowhead": 0,
           "arrowwidth": 1
          },
          "autotypenumbers": "strict",
          "coloraxis": {
           "colorbar": {
            "outlinewidth": 0,
            "ticks": ""
           }
          },
          "colorscale": {
           "diverging": [
            [
             0,
             "#8e0152"
            ],
            [
             0.1,
             "#c51b7d"
            ],
            [
             0.2,
             "#de77ae"
            ],
            [
             0.3,
             "#f1b6da"
            ],
            [
             0.4,
             "#fde0ef"
            ],
            [
             0.5,
             "#f7f7f7"
            ],
            [
             0.6,
             "#e6f5d0"
            ],
            [
             0.7,
             "#b8e186"
            ],
            [
             0.8,
             "#7fbc41"
            ],
            [
             0.9,
             "#4d9221"
            ],
            [
             1,
             "#276419"
            ]
           ],
           "sequential": [
            [
             0,
             "#0d0887"
            ],
            [
             0.1111111111111111,
             "#46039f"
            ],
            [
             0.2222222222222222,
             "#7201a8"
            ],
            [
             0.3333333333333333,
             "#9c179e"
            ],
            [
             0.4444444444444444,
             "#bd3786"
            ],
            [
             0.5555555555555556,
             "#d8576b"
            ],
            [
             0.6666666666666666,
             "#ed7953"
            ],
            [
             0.7777777777777778,
             "#fb9f3a"
            ],
            [
             0.8888888888888888,
             "#fdca26"
            ],
            [
             1,
             "#f0f921"
            ]
           ],
           "sequentialminus": [
            [
             0,
             "#0d0887"
            ],
            [
             0.1111111111111111,
             "#46039f"
            ],
            [
             0.2222222222222222,
             "#7201a8"
            ],
            [
             0.3333333333333333,
             "#9c179e"
            ],
            [
             0.4444444444444444,
             "#bd3786"
            ],
            [
             0.5555555555555556,
             "#d8576b"
            ],
            [
             0.6666666666666666,
             "#ed7953"
            ],
            [
             0.7777777777777778,
             "#fb9f3a"
            ],
            [
             0.8888888888888888,
             "#fdca26"
            ],
            [
             1,
             "#f0f921"
            ]
           ]
          },
          "colorway": [
           "#636efa",
           "#EF553B",
           "#00cc96",
           "#ab63fa",
           "#FFA15A",
           "#19d3f3",
           "#FF6692",
           "#B6E880",
           "#FF97FF",
           "#FECB52"
          ],
          "font": {
           "color": "#2a3f5f"
          },
          "geo": {
           "bgcolor": "white",
           "lakecolor": "white",
           "landcolor": "#E5ECF6",
           "showlakes": true,
           "showland": true,
           "subunitcolor": "white"
          },
          "hoverlabel": {
           "align": "left"
          },
          "hovermode": "closest",
          "mapbox": {
           "style": "light"
          },
          "paper_bgcolor": "white",
          "plot_bgcolor": "#E5ECF6",
          "polar": {
           "angularaxis": {
            "gridcolor": "white",
            "linecolor": "white",
            "ticks": ""
           },
           "bgcolor": "#E5ECF6",
           "radialaxis": {
            "gridcolor": "white",
            "linecolor": "white",
            "ticks": ""
           }
          },
          "scene": {
           "xaxis": {
            "backgroundcolor": "#E5ECF6",
            "gridcolor": "white",
            "gridwidth": 2,
            "linecolor": "white",
            "showbackground": true,
            "ticks": "",
            "zerolinecolor": "white"
           },
           "yaxis": {
            "backgroundcolor": "#E5ECF6",
            "gridcolor": "white",
            "gridwidth": 2,
            "linecolor": "white",
            "showbackground": true,
            "ticks": "",
            "zerolinecolor": "white"
           },
           "zaxis": {
            "backgroundcolor": "#E5ECF6",
            "gridcolor": "white",
            "gridwidth": 2,
            "linecolor": "white",
            "showbackground": true,
            "ticks": "",
            "zerolinecolor": "white"
           }
          },
          "shapedefaults": {
           "line": {
            "color": "#2a3f5f"
           }
          },
          "ternary": {
           "aaxis": {
            "gridcolor": "white",
            "linecolor": "white",
            "ticks": ""
           },
           "baxis": {
            "gridcolor": "white",
            "linecolor": "white",
            "ticks": ""
           },
           "bgcolor": "#E5ECF6",
           "caxis": {
            "gridcolor": "white",
            "linecolor": "white",
            "ticks": ""
           }
          },
          "title": {
           "x": 0.05
          },
          "xaxis": {
           "automargin": true,
           "gridcolor": "white",
           "linecolor": "white",
           "ticks": "",
           "title": {
            "standoff": 15
           },
           "zerolinecolor": "white",
           "zerolinewidth": 2
          },
          "yaxis": {
           "automargin": true,
           "gridcolor": "white",
           "linecolor": "white",
           "ticks": "",
           "title": {
            "standoff": 15
           },
           "zerolinecolor": "white",
           "zerolinewidth": 2
          }
         }
        },
        "title": {
         "text": "Logistic Regression Correct and Incorrect Classifications per Class"
        },
        "xaxis": {
         "title": {
          "text": "Number of Observations"
         }
        },
        "yaxis": {
         "title": {
          "text": "Classes"
         }
        }
       }
      }
     },
     "metadata": {},
     "output_type": "display_data"
    }
   ],
   "source": [
    "# Make predictions using the Logistic Regression model\n",
    "y_pred_log = best_log.predict(x_test_sub)\n",
    "\n",
    "# Compute the confusion matrix\n",
    "conf_matrix_log = confusion_matrix(y_test_sub, y_pred_log)\n",
    "\n",
    "# Calculate correct and incorrect classifications for each class\n",
    "correct_log = np.diag(conf_matrix_log)\n",
    "incorrect_log = np.sum(conf_matrix_log, axis=1) - correct_log\n",
    "\n",
    "# Define CIFAR-10 classes\n",
    "classes = [\"Airplane\", \"Automobile\", \"Bird\", \"Cat\", \"Deer\", \"Dog\", \"Frog\", \"Horse\", \"Ship\", \"Truck\"]\n",
    "\n",
    "# Define colors for the bars\n",
    "light_blue = '#6699cc' \n",
    "dark_blue = '#abdbe3'\n",
    "\n",
    "# Create a horizontal stacked bar chart using Plotly\n",
    "fig = go.Figure(data=[\n",
    "    go.Bar(name='Correct', y=classes, x=correct_log, marker_color=light_blue, orientation='h'),\n",
    "    go.Bar(name='Incorrect', y=classes, x=incorrect_log, marker_color=dark_blue, orientation='h')\n",
    "])\n",
    "\n",
    "# Change the bar mode\n",
    "fig.update_layout(barmode='stack', title='Logistic Regression Correct and Incorrect Classifications per Class',\n",
    "                  yaxis_title='Classes', xaxis_title='Number of Observations')\n",
    "\n",
    "# Add labels to the bars\n",
    "for i in range(len(classes)):\n",
    "    fig.add_annotation(x=correct_log[i]/2, y=classes[i],\n",
    "                       text=str(correct_log[i]),\n",
    "                       showarrow=False,\n",
    "                       font=dict(color='white'))\n",
    "    fig.add_annotation(x=correct_log[i] + incorrect_log[i]/2, y=classes[i],\n",
    "                       text=str(incorrect_log[i]),\n",
    "                       showarrow=False,\n",
    "                       font=dict(color='white'))\n",
    "\n",
    "# Show the figure\n",
    "fig.show()\n"
   ]
  },
  {
   "cell_type": "markdown",
   "metadata": {},
   "source": [
    "<div style=\"border-left: 5px solid #5DADE2; padding: 20px; background-color: #EAF2F8; font-family: Arial, sans-serif;\">\n",
    "  <h3 style=\"color: #2C3E50; border-bottom: 2px solid #5DADE2; display: inline-block; padding-bottom: 10px;\">Logistic Regression Model Evaluation on CIFAR-10:</h3>\n",
    "  <div style=\"width: 50%;\">\n",
    "    <ul style=\"list-style-type: none; padding-left: 0; color: #34495E;\">\n",
    "      <li style=\"margin-bottom: 10px;\">• The Logistic Regression model demonstrates modest performance on the CIFAR-10 dataset with a test accuracy of 32.86% and a train accuracy of 66.59%. The precision of 32.60% and F1 score of 32.69% suggest a moderate ability to correctly classify images. The model shows a notable disparity in performance across classes, with 'Ship' and 'Airplane' receiving relatively more accurate classifications compared to 'Cat' and 'Dog'. This variance in performance highlights the model's limitations in capturing the complex features necessary for accurate image classification.\n",
    "\n",
    "The model often misclassifies images with similar features, such as mistaking 'Airplane' for 'Ship' or 'Automobile' for 'Truck', indicating challenges in differentiating between classes with shared characteristics. High misclassification rates in classes like 'Cat' and 'Dog' may be due to the high variability and subtler distinctions within these categories.\n",
    "\n",
    "To improve classification accuracy, adopting more sophisticated techniques like convolutional neural networks might be beneficial. These approaches can better capture the complex patterns in image data. Furthermore, exploring different feature extraction methods and fine-tuning hyperparameters could yield incremental improvements. However, the inherent challenges of the CIFAR-10 dataset might limit the efficacy of a logistic regression model in this context.</li>\n",
    "    </ul>\n",
    "  </div>\n",
    "</div>\n",
    "\n"
   ]
  },
  {
   "cell_type": "markdown",
   "metadata": {},
   "source": [
    "<div style=\"border: 5px solid #000080; padding: 10px;\">\n",
    "<h3></h3>\n",
    "</div>"
   ]
  },
  {
   "cell_type": "markdown",
   "metadata": {},
   "source": [
    "<div style=\"border: 5px solid #5DADE2; background-color: #EAF2F8; padding: 40px; font-family: 'Arial', sans-serif;\">\n",
    "    <h2 style=\"color: #34495E; font-size: 48px; margin: 0;\">3. Decision Tree with optimal depth</h2>\n",
    "</div>"
   ]
  },
  {
   "cell_type": "markdown",
   "metadata": {},
   "source": [
    "<div style=\"border: 5px solid #000080; padding: 10px;\">\n",
    "<h3></h3>\n",
    "</div>"
   ]
  },
  {
   "cell_type": "code",
   "execution_count": 9,
   "metadata": {},
   "outputs": [
    {
     "data": {
      "image/png": "[encoded data removed]",
      "text/plain": [
       "<Figure size 1000x800 with 2 Axes>"
      ]
     },
     "metadata": {},
     "output_type": "display_data"
    },
    {
     "data": {
      "text/html": [
       "<div>\n",
       "<style scoped>\n",
       "    .dataframe tbody tr th:only-of-type {\n",
       "        vertical-align: middle;\n",
       "    }\n",
       "\n",
       "    .dataframe tbody tr th {\n",
       "        vertical-align: top;\n",
       "    }\n",
       "\n",
       "    .dataframe thead th {\n",
       "        text-align: right;\n",
       "    }\n",
       "</style>\n",
       "<table border=\"1\" class=\"dataframe\">\n",
       "  <thead>\n",
       "    <tr style=\"text-align: right;\">\n",
       "      <th></th>\n",
       "      <th>Model</th>\n",
       "      <th>Train Accuracy</th>\n",
       "      <th>Test Accuracy</th>\n",
       "      <th>Precision</th>\n",
       "      <th>Recall</th>\n",
       "      <th>F1 Score</th>\n",
       "      <th>Execution Time</th>\n",
       "    </tr>\n",
       "  </thead>\n",
       "  <tbody>\n",
       "    <tr>\n",
       "      <th>0</th>\n",
       "      <td>Decision Tree</td>\n",
       "      <td>0.3739</td>\n",
       "      <td>0.2631</td>\n",
       "      <td>0.261692</td>\n",
       "      <td>0.2631</td>\n",
       "      <td>0.254934</td>\n",
       "      <td>00:02:42</td>\n",
       "    </tr>\n",
       "  </tbody>\n",
       "</table>\n",
       "</div>"
      ],
      "text/plain": [
       "           Model  Train Accuracy  Test Accuracy  Precision  Recall  F1 Score  \\\n",
       "0  Decision Tree          0.3739         0.2631   0.261692  0.2631  0.254934   \n",
       "\n",
       "  Execution Time  \n",
       "0       00:02:42  "
      ]
     },
     "execution_count": 9,
     "metadata": {},
     "output_type": "execute_result"
    }
   ],
   "source": [
    "# Start timing\n",
    "start_time_dt = time.time()\n",
    "\n",
    "# Load CIFAR-10 data\n",
    "(x_train, y_train), (x_test, y_test) = cifar10.load_data()\n",
    "\n",
    "# Flatten and normalize the data\n",
    "num_pixels = x_train.shape[1] * x_train.shape[2] * x_train.shape[3]\n",
    "x_train_flat = x_train.reshape(x_train.shape[0], num_pixels).astype('float32') / 255\n",
    "x_test_flat = x_test.reshape(x_test.shape[0], num_pixels).astype('float32') / 255\n",
    "y_train_flat = y_train.ravel()\n",
    "y_test_flat = y_test.ravel()\n",
    "\n",
    "# Sample size for training\n",
    "sample_size = 10000\n",
    "\n",
    "# Randomly select a subset of samples from the training data\n",
    "x_train_sub, _, y_train_sub, _ = train_test_split(x_train_flat, y_train_flat, train_size=sample_size, random_state=42)\n",
    "\n",
    "# Use the entire test set\n",
    "x_test_sub = x_test_flat\n",
    "y_test_sub = y_test_flat\n",
    "\n",
    "# Find the optimal depth for Decision Tree\n",
    "max_depth_range = range(1, 20, 2)\n",
    "cv_scores = []\n",
    "for depth in max_depth_range:\n",
    "    dt_model = DecisionTreeClassifier(max_depth=depth, random_state=42)\n",
    "    scores = cross_val_score(dt_model, x_train_sub, y_train_sub, cv=3, scoring='accuracy', n_jobs=-1)\n",
    "    cv_scores.append(scores.mean())\n",
    "optimal_depth = max_depth_range[np.argmax(cv_scores)]\n",
    "\n",
    "# Initialize Decision Tree with the optimal depth\n",
    "best_dt = DecisionTreeClassifier(max_depth=optimal_depth, random_state=42)\n",
    "best_dt.fit(x_train_sub, y_train_sub)\n",
    "\n",
    "# Predictions and accuracy evaluations using best_dt\n",
    "y_pred_dt = best_dt.predict(x_test_sub)\n",
    "train_accuracy_dt = accuracy_score(y_train_sub, best_dt.predict(x_train_sub))\n",
    "test_accuracy_dt = accuracy_score(y_test_sub, y_pred_dt)\n",
    "\n",
    "# Metrics\n",
    "precision_dt = precision_score(y_test_sub, y_pred_dt, average='macro')\n",
    "recall_dt = recall_score(y_test_sub, y_pred_dt, average='macro')\n",
    "f1_score_dt = f1_score(y_test_sub, y_pred_dt, average='macro')\n",
    "\n",
    "# End timing\n",
    "end_time_dt = time.time()\n",
    "total_time_dt = end_time_dt - start_time_dt\n",
    "\n",
    "# Format time\n",
    "hours, remainder = divmod(total_time_dt, 3600)\n",
    "minutes, seconds = divmod(remainder, 60)\n",
    "time_formatted_dt = \"{:02}:{:02}:{:02}\".format(int(hours), int(minutes), int(seconds))\n",
    "\n",
    "# Create results DataFrame for Decision Tree\n",
    "results_data_dt = {\n",
    "    'Model': ['Decision Tree'],\n",
    "    'Train Accuracy': [train_accuracy_dt],\n",
    "    'Test Accuracy': [test_accuracy_dt],\n",
    "    'Precision': [precision_dt],\n",
    "    'Recall': [recall_dt],\n",
    "    'F1 Score': [f1_score_dt],\n",
    "    'Execution Time': [time_formatted_dt]  \n",
    "}\n",
    "\n",
    "Results_dt = pd.DataFrame(results_data_dt)\n",
    "\n",
    "# Define CIFAR-10 classes\n",
    "classes = [\"Airplane\", \"Automobile\", \"Bird\", \"Cat\", \"Deer\", \"Dog\", \"Frog\", \"Horse\", \"Ship\", \"Truck\"]\n",
    "\n",
    "# Confusion matrix for Decision Tree\n",
    "conf_matrix_dt = confusion_matrix(y_test_sub, y_pred_dt)\n",
    "\n",
    "# Create a heatmap using seaborn to visualize the confusion matrix\n",
    "plt.figure(figsize=(10, 8))\n",
    "sns.heatmap(conf_matrix_dt, annot=True, fmt='g', cmap='Blues', \n",
    "            xticklabels=classes, yticklabels=classes)\n",
    "\n",
    "plt.xlabel('Predicted labels')\n",
    "plt.ylabel('True labels')\n",
    "plt.title('Confusion Matrix of Decision Tree on CIFAR-10')\n",
    "plt.show()\n",
    "Results_dt\n"
   ]
  },
  {
   "cell_type": "markdown",
   "metadata": {},
   "source": [
    "<div style=\"border-left: 5px solid #5DADE2; padding: 15px; background-color: #EAF2F8; font-family: Arial, sans-serif;\">\n",
    "  <h3 style=\"color: #2C3E50; border-bottom: 2px solid #5DADE2; display: inline-block; padding-bottom: 10px;\">Decision Tree Model Performance on CIFAR-10:</h3>\n",
    "  <ul style=\"list-style-type: none; padding-left: 0; color: #34495E;\">\n",
    "    <li style=\"margin-bottom: 10px;\">• The model achieved a train accuracy of 0.3739, reflecting its ability to learn patterns from the training data.</li>\n",
    "    <li style=\"margin-bottom: 10px;\">• The test accuracy is 0.2631, which means the model correctly classified approximately 26.31% of the test dataset.</li>\n",
    "    <li style=\"margin-bottom: 10px;\">• The precision of the model is 0.261692, indicating the ratio of true positive predictions to total positive predictions.</li>\n",
    "    <li style=\"margin-bottom: 10px;\">• The recall of the model is 0.2631, representing the proportion of actual positives correctly identified by the model.</li>\n",
    "    <li style=\"margin-bottom: 10px;\">• The F1 Score stands at 0.254934, balancing the precision and recall of the model.</li>\n",
    "    <li style=\"margin-bottom: 10px;\">• The execution time for running the Decision Tree model was 02 minutes and 42 seconds, reflecting the time efficiency of this model for the CIFAR-10 dataset.</li>\n",
    "  </ul>\n",
    "</div>\n"
   ]
  },
  {
   "cell_type": "code",
   "execution_count": 20,
   "metadata": {},
   "outputs": [
    {
     "name": "stdout",
     "output_type": "stream",
     "text": [
      "Correct Predictions:\n",
      "Class Airplane: 394\n",
      "Class Automobile: 236\n",
      "Class Bird: 30\n",
      "Class Cat: 223\n",
      "Class Deer: 305\n",
      "Class Dog: 164\n",
      "Class Frog: 393\n",
      "Class Horse: 202\n",
      "Class Ship: 379\n",
      "Class Truck: 305\n",
      "\n",
      "Incorrect Predictions:\n",
      "Actual: Airplane, Predicted: Automobile, Count: 45\n",
      "Actual: Airplane, Predicted: Bird, Count: 34\n",
      "Actual: Airplane, Predicted: Cat, Count: 111\n",
      "Actual: Airplane, Predicted: Deer, Count: 47\n",
      "Actual: Airplane, Predicted: Dog, Count: 26\n",
      "Actual: Airplane, Predicted: Frog, Count: 51\n",
      "Actual: Airplane, Predicted: Horse, Count: 63\n",
      "Actual: Airplane, Predicted: Ship, Count: 133\n",
      "Actual: Airplane, Predicted: Truck, Count: 96\n",
      "Actual: Automobile, Predicted: Airplane, Count: 62\n",
      "Actual: Automobile, Predicted: Bird, Count: 28\n",
      "Actual: Automobile, Predicted: Cat, Count: 110\n",
      "Actual: Automobile, Predicted: Deer, Count: 50\n",
      "Actual: Automobile, Predicted: Dog, Count: 66\n",
      "Actual: Automobile, Predicted: Frog, Count: 111\n",
      "Actual: Automobile, Predicted: Horse, Count: 104\n",
      "Actual: Automobile, Predicted: Ship, Count: 72\n",
      "Actual: Automobile, Predicted: Truck, Count: 161\n",
      "Actual: Bird, Predicted: Airplane, Count: 86\n",
      "Actual: Bird, Predicted: Automobile, Count: 55\n",
      "Actual: Bird, Predicted: Cat, Count: 130\n",
      "Actual: Bird, Predicted: Deer, Count: 263\n",
      "Actual: Bird, Predicted: Dog, Count: 69\n",
      "Actual: Bird, Predicted: Frog, Count: 160\n",
      "Actual: Bird, Predicted: Horse, Count: 113\n",
      "Actual: Bird, Predicted: Ship, Count: 35\n",
      "Actual: Bird, Predicted: Truck, Count: 59\n",
      "Actual: Cat, Predicted: Airplane, Count: 50\n",
      "Actual: Cat, Predicted: Automobile, Count: 57\n",
      "Actual: Cat, Predicted: Bird, Count: 29\n",
      "Actual: Cat, Predicted: Deer, Count: 131\n",
      "Actual: Cat, Predicted: Dog, Count: 107\n",
      "Actual: Cat, Predicted: Frog, Count: 196\n",
      "Actual: Cat, Predicted: Horse, Count: 114\n",
      "Actual: Cat, Predicted: Ship, Count: 29\n",
      "Actual: Cat, Predicted: Truck, Count: 64\n",
      "Actual: Deer, Predicted: Airplane, Count: 47\n",
      "Actual: Deer, Predicted: Automobile, Count: 25\n",
      "Actual: Deer, Predicted: Bird, Count: 13\n",
      "Actual: Deer, Predicted: Cat, Count: 126\n",
      "Actual: Deer, Predicted: Dog, Count: 44\n",
      "Actual: Deer, Predicted: Frog, Count: 236\n",
      "Actual: Deer, Predicted: Horse, Count: 135\n",
      "Actual: Deer, Predicted: Ship, Count: 30\n",
      "Actual: Deer, Predicted: Truck, Count: 39\n",
      "Actual: Dog, Predicted: Airplane, Count: 52\n",
      "Actual: Dog, Predicted: Automobile, Count: 47\n",
      "Actual: Dog, Predicted: Bird, Count: 22\n",
      "Actual: Dog, Predicted: Cat, Count: 217\n",
      "Actual: Dog, Predicted: Deer, Count: 146\n",
      "Actual: Dog, Predicted: Frog, Count: 142\n",
      "Actual: Dog, Predicted: Horse, Count: 128\n",
      "Actual: Dog, Predicted: Ship, Count: 37\n",
      "Actual: Dog, Predicted: Truck, Count: 45\n",
      "Actual: Frog, Predicted: Airplane, Count: 15\n",
      "Actual: Frog, Predicted: Automobile, Count: 57\n",
      "Actual: Frog, Predicted: Bird, Count: 12\n",
      "Actual: Frog, Predicted: Cat, Count: 120\n",
      "Actual: Frog, Predicted: Deer, Count: 199\n",
      "Actual: Frog, Predicted: Dog, Count: 66\n",
      "Actual: Frog, Predicted: Horse, Count: 88\n",
      "Actual: Frog, Predicted: Ship, Count: 8\n",
      "Actual: Frog, Predicted: Truck, Count: 42\n",
      "Actual: Horse, Predicted: Airplane, Count: 90\n",
      "Actual: Horse, Predicted: Automobile, Count: 32\n",
      "Actual: Horse, Predicted: Bird, Count: 18\n",
      "Actual: Horse, Predicted: Cat, Count: 164\n",
      "Actual: Horse, Predicted: Deer, Count: 171\n",
      "Actual: Horse, Predicted: Dog, Count: 70\n",
      "Actual: Horse, Predicted: Frog, Count: 105\n",
      "Actual: Horse, Predicted: Ship, Count: 41\n",
      "Actual: Horse, Predicted: Truck, Count: 107\n",
      "Actual: Ship, Predicted: Airplane, Count: 159\n",
      "Actual: Ship, Predicted: Automobile, Count: 87\n",
      "Actual: Ship, Predicted: Bird, Count: 17\n",
      "Actual: Ship, Predicted: Cat, Count: 98\n",
      "Actual: Ship, Predicted: Deer, Count: 22\n",
      "Actual: Ship, Predicted: Dog, Count: 34\n",
      "Actual: Ship, Predicted: Frog, Count: 40\n",
      "Actual: Ship, Predicted: Horse, Count: 46\n",
      "Actual: Ship, Predicted: Truck, Count: 118\n",
      "Actual: Truck, Predicted: Airplane, Count: 96\n",
      "Actual: Truck, Predicted: Automobile, Count: 136\n",
      "Actual: Truck, Predicted: Bird, Count: 17\n",
      "Actual: Truck, Predicted: Cat, Count: 110\n",
      "Actual: Truck, Predicted: Deer, Count: 34\n",
      "Actual: Truck, Predicted: Dog, Count: 25\n",
      "Actual: Truck, Predicted: Frog, Count: 89\n",
      "Actual: Truck, Predicted: Horse, Count: 83\n",
      "Actual: Truck, Predicted: Ship, Count: 105\n"
     ]
    }
   ],
   "source": [
    "conf_matrix_dt = confusion_matrix(y_test_sub, y_pred_dt)\n",
    "\n",
    "# CIFAR-10 classes\n",
    "classes = [\"Airplane\", \"Automobile\", \"Bird\", \"Cat\", \"Deer\", \"Dog\", \"Frog\", \"Horse\", \"Ship\", \"Truck\"]\n",
    "\n",
    "# Initialize lists to store the results\n",
    "correct_predictions_dt = []\n",
    "incorrect_predictions_dt = []\n",
    "\n",
    "# Iterate over the confusion matrix\n",
    "for i in range(len(conf_matrix_dt)):\n",
    "    for j in range(len(conf_matrix_dt[i])):\n",
    "        if i == j:\n",
    "            # Correct predictions\n",
    "            correct_predictions_dt.append((classes[i], conf_matrix_dt[i][j]))\n",
    "        else:\n",
    "            # Incorrect predictions\n",
    "            if conf_matrix_dt[i][j] > 0:  # Only include cases where there are misclassifications\n",
    "                incorrect_predictions_dt.append((classes[i], classes[j], conf_matrix_dt[i][j]))\n",
    "\n",
    "# Print the results\n",
    "print(\"Correct Predictions:\")\n",
    "for class_name, count in correct_predictions_dt:\n",
    "    print(f\"Class {class_name}: {count}\")\n",
    "\n",
    "print(\"\\nIncorrect Predictions:\")\n",
    "for actual_class, predicted_class, count in incorrect_predictions_dt:\n",
    "    print(f\"Actual: {actual_class}, Predicted: {predicted_class}, Count: {count}\")"
   ]
  },
  {
   "cell_type": "code",
   "execution_count": 15,
   "metadata": {},
   "outputs": [
    {
     "data": {
      "application/vnd.plotly.v1+json": {
       "config": {
        "plotlyServerURL": "https://plot.ly"
       },
       "data": [
        {
         "marker": {
          "color": "#6699cc"
         },
         "name": "Correct",
         "orientation": "h",
         "type": "bar",
         "x": [
          394,
          236,
          30,
          223,
          305,
          164,
          393,
          202,
          379,
          305
         ],
         "y": [
          "Airplane",
          "Automobile",
          "Bird",
          "Cat",
          "Deer",
          "Dog",
          "Frog",
          "Horse",
          "Ship",
          "Truck"
         ]
        },
        {
         "marker": {
          "color": "#abdbe3"
         },
         "name": "Incorrect",
         "orientation": "h",
         "type": "bar",
         "x": [
          606,
          764,
          970,
          777,
          695,
          836,
          607,
          798,
          621,
          695
         ],
         "y": [
          "Airplane",
          "Automobile",
          "Bird",
          "Cat",
          "Deer",
          "Dog",
          "Frog",
          "Horse",
          "Ship",
          "Truck"
         ]
        }
       ],
       "layout": {
        "annotations": [
         {
          "font": {
           "color": "black"
          },
          "showarrow": false,
          "text": "394",
          "x": 197,
          "y": "Airplane"
         },
         {
          "font": {
           "color": "black"
          },
          "showarrow": false,
          "text": "606",
          "x": 697,
          "y": "Airplane"
         },
         {
          "font": {
           "color": "black"
          },
          "showarrow": false,
          "text": "236",
          "x": 118,
          "y": "Automobile"
         },
         {
          "font": {
           "color": "black"
          },
          "showarrow": false,
          "text": "764",
          "x": 618,
          "y": "Automobile"
         },
         {
          "font": {
           "color": "black"
          },
          "showarrow": false,
          "text": "30",
          "x": 15,
          "y": "Bird"
         },
         {
          "font": {
           "color": "black"
          },
          "showarrow": false,
          "text": "970",
          "x": 515,
          "y": "Bird"
         },
         {
          "font": {
           "color": "black"
          },
          "showarrow": false,
          "text": "223",
          "x": 111.5,
          "y": "Cat"
         },
         {
          "font": {
           "color": "black"
          },
          "showarrow": false,
          "text": "777",
          "x": 611.5,
          "y": "Cat"
         },
         {
          "font": {
           "color": "black"
          },
          "showarrow": false,
          "text": "305",
          "x": 152.5,
          "y": "Deer"
         },
         {
          "font": {
           "color": "black"
          },
          "showarrow": false,
          "text": "695",
          "x": 652.5,
          "y": "Deer"
         },
         {
          "font": {
           "color": "black"
          },
          "showarrow": false,
          "text": "164",
          "x": 82,
          "y": "Dog"
         },
         {
          "font": {
           "color": "black"
          },
          "showarrow": false,
          "text": "836",
          "x": 582,
          "y": "Dog"
         },
         {
          "font": {
           "color": "black"
          },
          "showarrow": false,
          "text": "393",
          "x": 196.5,
          "y": "Frog"
         },
         {
          "font": {
           "color": "black"
          },
          "showarrow": false,
          "text": "607",
          "x": 696.5,
          "y": "Frog"
         },
         {
          "font": {
           "color": "black"
          },
          "showarrow": false,
          "text": "202",
          "x": 101,
          "y": "Horse"
         },
         {
          "font": {
           "color": "black"
          },
          "showarrow": false,
          "text": "798",
          "x": 601,
          "y": "Horse"
         },
         {
          "font": {
           "color": "black"
          },
          "showarrow": false,
          "text": "379",
          "x": 189.5,
          "y": "Ship"
         },
         {
          "font": {
           "color": "black"
          },
          "showarrow": false,
          "text": "621",
          "x": 689.5,
          "y": "Ship"
         },
         {
          "font": {
           "color": "black"
          },
          "showarrow": false,
          "text": "305",
          "x": 152.5,
          "y": "Truck"
         },
         {
          "font": {
           "color": "black"
          },
          "showarrow": false,
          "text": "695",
          "x": 652.5,
          "y": "Truck"
         }
        ],
        "barmode": "stack",
        "template": {
         "data": {
          "bar": [
           {
            "error_x": {
             "color": "#2a3f5f"
            },
            "error_y": {
             "color": "#2a3f5f"
            },
            "marker": {
             "line": {
              "color": "#E5ECF6",
              "width": 0.5
             },
             "pattern": {
              "fillmode": "overlay",
              "size": 10,
              "solidity": 0.2
             }
            },
            "type": "bar"
           }
          ],
          "barpolar": [
           {
            "marker": {
             "line": {
              "color": "#E5ECF6",
              "width": 0.5
             },
             "pattern": {
              "fillmode": "overlay",
              "size": 10,
              "solidity": 0.2
             }
            },
            "type": "barpolar"
           }
          ],
          "carpet": [
           {
            "aaxis": {
             "endlinecolor": "#2a3f5f",
             "gridcolor": "white",
             "linecolor": "white",
             "minorgridcolor": "white",
             "startlinecolor": "#2a3f5f"
            },
            "baxis": {
             "endlinecolor": "#2a3f5f",
             "gridcolor": "white",
             "linecolor": "white",
             "minorgridcolor": "white",
             "startlinecolor": "#2a3f5f"
            },
            "type": "carpet"
           }
          ],
          "choropleth": [
           {
            "colorbar": {
             "outlinewidth": 0,
             "ticks": ""
            },
            "type": "choropleth"
           }
          ],
          "contour": [
           {
            "colorbar": {
             "outlinewidth": 0,
             "ticks": ""
            },
            "colorscale": [
             [
              0,
              "#0d0887"
             ],
             [
              0.1111111111111111,
              "#46039f"
             ],
             [
              0.2222222222222222,
              "#7201a8"
             ],
             [
              0.3333333333333333,
              "#9c179e"
             ],
             [
              0.4444444444444444,
              "#bd3786"
             ],
             [
              0.5555555555555556,
              "#d8576b"
             ],
             [
              0.6666666666666666,
              "#ed7953"
             ],
             [
              0.7777777777777778,
              "#fb9f3a"
             ],
             [
              0.8888888888888888,
              "#fdca26"
             ],
             [
              1,
              "#f0f921"
             ]
            ],
            "type": "contour"
           }
          ],
          "contourcarpet": [
           {
            "colorbar": {
             "outlinewidth": 0,
             "ticks": ""
            },
            "type": "contourcarpet"
           }
          ],
          "heatmap": [
           {
            "colorbar": {
             "outlinewidth": 0,
             "ticks": ""
            },
            "colorscale": [
             [
              0,
              "#0d0887"
             ],
             [
              0.1111111111111111,
              "#46039f"
             ],
             [
              0.2222222222222222,
              "#7201a8"
             ],
             [
              0.3333333333333333,
              "#9c179e"
             ],
             [
              0.4444444444444444,
              "#bd3786"
             ],
             [
              0.5555555555555556,
              "#d8576b"
             ],
             [
              0.6666666666666666,
              "#ed7953"
             ],
             [
              0.7777777777777778,
              "#fb9f3a"
             ],
             [
              0.8888888888888888,
              "#fdca26"
             ],
             [
              1,
              "#f0f921"
             ]
            ],
            "type": "heatmap"
           }
          ],
          "heatmapgl": [
           {
            "colorbar": {
             "outlinewidth": 0,
             "ticks": ""
            },
            "colorscale": [
             [
              0,
              "#0d0887"
             ],
             [
              0.1111111111111111,
              "#46039f"
             ],
             [
              0.2222222222222222,
              "#7201a8"
             ],
             [
              0.3333333333333333,
              "#9c179e"
             ],
             [
              0.4444444444444444,
              "#bd3786"
             ],
             [
              0.5555555555555556,
              "#d8576b"
             ],
             [
              0.6666666666666666,
              "#ed7953"
             ],
             [
              0.7777777777777778,
              "#fb9f3a"
             ],
             [
              0.8888888888888888,
              "#fdca26"
             ],
             [
              1,
              "#f0f921"
             ]
            ],
            "type": "heatmapgl"
           }
          ],
          "histogram": [
           {
            "marker": {
             "pattern": {
              "fillmode": "overlay",
              "size": 10,
              "solidity": 0.2
             }
            },
            "type": "histogram"
           }
          ],
          "histogram2d": [
           {
            "colorbar": {
             "outlinewidth": 0,
             "ticks": ""
            },
            "colorscale": [
             [
              0,
              "#0d0887"
             ],
             [
              0.1111111111111111,
              "#46039f"
             ],
             [
              0.2222222222222222,
              "#7201a8"
             ],
             [
              0.3333333333333333,
              "#9c179e"
             ],
             [
              0.4444444444444444,
              "#bd3786"
             ],
             [
              0.5555555555555556,
              "#d8576b"
             ],
             [
              0.6666666666666666,
              "#ed7953"
             ],
             [
              0.7777777777777778,
              "#fb9f3a"
             ],
             [
              0.8888888888888888,
              "#fdca26"
             ],
             [
              1,
              "#f0f921"
             ]
            ],
            "type": "histogram2d"
           }
          ],
          "histogram2dcontour": [
           {
            "colorbar": {
             "outlinewidth": 0,
             "ticks": ""
            },
            "colorscale": [
             [
              0,
              "#0d0887"
             ],
             [
              0.1111111111111111,
              "#46039f"
             ],
             [
              0.2222222222222222,
              "#7201a8"
             ],
             [
              0.3333333333333333,
              "#9c179e"
             ],
             [
              0.4444444444444444,
              "#bd3786"
             ],
             [
              0.5555555555555556,
              "#d8576b"
             ],
             [
              0.6666666666666666,
              "#ed7953"
             ],
             [
              0.7777777777777778,
              "#fb9f3a"
             ],
             [
              0.8888888888888888,
              "#fdca26"
             ],
             [
              1,
              "#f0f921"
             ]
            ],
            "type": "histogram2dcontour"
           }
          ],
          "mesh3d": [
           {
            "colorbar": {
             "outlinewidth": 0,
             "ticks": ""
            },
            "type": "mesh3d"
           }
          ],
          "parcoords": [
           {
            "line": {
             "colorbar": {
              "outlinewidth": 0,
              "ticks": ""
             }
            },
            "type": "parcoords"
           }
          ],
          "pie": [
           {
            "automargin": true,
            "type": "pie"
           }
          ],
          "scatter": [
           {
            "fillpattern": {
             "fillmode": "overlay",
             "size": 10,
             "solidity": 0.2
            },
            "type": "scatter"
           }
          ],
          "scatter3d": [
           {
            "line": {
             "colorbar": {
              "outlinewidth": 0,
              "ticks": ""
             }
            },
            "marker": {
             "colorbar": {
              "outlinewidth": 0,
              "ticks": ""
             }
            },
            "type": "scatter3d"
           }
          ],
          "scattercarpet": [
           {
            "marker": {
             "colorbar": {
              "outlinewidth": 0,
              "ticks": ""
             }
            },
            "type": "scattercarpet"
           }
          ],
          "scattergeo": [
           {
            "marker": {
             "colorbar": {
              "outlinewidth": 0,
              "ticks": ""
             }
            },
            "type": "scattergeo"
           }
          ],
          "scattergl": [
           {
            "marker": {
             "colorbar": {
              "outlinewidth": 0,
              "ticks": ""
             }
            },
            "type": "scattergl"
           }
          ],
          "scattermapbox": [
           {
            "marker": {
             "colorbar": {
              "outlinewidth": 0,
              "ticks": ""
             }
            },
            "type": "scattermapbox"
           }
          ],
          "scatterpolar": [
           {
            "marker": {
             "colorbar": {
              "outlinewidth": 0,
              "ticks": ""
             }
            },
            "type": "scatterpolar"
           }
          ],
          "scatterpolargl": [
           {
            "marker": {
             "colorbar": {
              "outlinewidth": 0,
              "ticks": ""
             }
            },
            "type": "scatterpolargl"
           }
          ],
          "scatterternary": [
           {
            "marker": {
             "colorbar": {
              "outlinewidth": 0,
              "ticks": ""
             }
            },
            "type": "scatterternary"
           }
          ],
          "surface": [
           {
            "colorbar": {
             "outlinewidth": 0,
             "ticks": ""
            },
            "colorscale": [
             [
              0,
              "#0d0887"
             ],
             [
              0.1111111111111111,
              "#46039f"
             ],
             [
              0.2222222222222222,
              "#7201a8"
             ],
             [
              0.3333333333333333,
              "#9c179e"
             ],
             [
              0.4444444444444444,
              "#bd3786"
             ],
             [
              0.5555555555555556,
              "#d8576b"
             ],
             [
              0.6666666666666666,
              "#ed7953"
             ],
             [
              0.7777777777777778,
              "#fb9f3a"
             ],
             [
              0.8888888888888888,
              "#fdca26"
             ],
             [
              1,
              "#f0f921"
             ]
            ],
            "type": "surface"
           }
          ],
          "table": [
           {
            "cells": {
             "fill": {
              "color": "#EBF0F8"
             },
             "line": {
              "color": "white"
             }
            },
            "header": {
             "fill": {
              "color": "#C8D4E3"
             },
             "line": {
              "color": "white"
             }
            },
            "type": "table"
           }
          ]
         },
         "layout": {
          "annotationdefaults": {
           "arrowcolor": "#2a3f5f",
           "arrowhead": 0,
           "arrowwidth": 1
          },
          "autotypenumbers": "strict",
          "coloraxis": {
           "colorbar": {
            "outlinewidth": 0,
            "ticks": ""
           }
          },
          "colorscale": {
           "diverging": [
            [
             0,
             "#8e0152"
            ],
            [
             0.1,
             "#c51b7d"
            ],
            [
             0.2,
             "#de77ae"
            ],
            [
             0.3,
             "#f1b6da"
            ],
            [
             0.4,
             "#fde0ef"
            ],
            [
             0.5,
             "#f7f7f7"
            ],
            [
             0.6,
             "#e6f5d0"
            ],
            [
             0.7,
             "#b8e186"
            ],
            [
             0.8,
             "#7fbc41"
            ],
            [
             0.9,
             "#4d9221"
            ],
            [
             1,
             "#276419"
            ]
           ],
           "sequential": [
            [
             0,
             "#0d0887"
            ],
            [
             0.1111111111111111,
             "#46039f"
            ],
            [
             0.2222222222222222,
             "#7201a8"
            ],
            [
             0.3333333333333333,
             "#9c179e"
            ],
            [
             0.4444444444444444,
             "#bd3786"
            ],
            [
             0.5555555555555556,
             "#d8576b"
            ],
            [
             0.6666666666666666,
             "#ed7953"
            ],
            [
             0.7777777777777778,
             "#fb9f3a"
            ],
            [
             0.8888888888888888,
             "#fdca26"
            ],
            [
             1,
             "#f0f921"
            ]
           ],
           "sequentialminus": [
            [
             0,
             "#0d0887"
            ],
            [
             0.1111111111111111,
             "#46039f"
            ],
            [
             0.2222222222222222,
             "#7201a8"
            ],
            [
             0.3333333333333333,
             "#9c179e"
            ],
            [
             0.4444444444444444,
             "#bd3786"
            ],
            [
             0.5555555555555556,
             "#d8576b"
            ],
            [
             0.6666666666666666,
             "#ed7953"
            ],
            [
             0.7777777777777778,
             "#fb9f3a"
            ],
            [
             0.8888888888888888,
             "#fdca26"
            ],
            [
             1,
             "#f0f921"
            ]
           ]
          },
          "colorway": [
           "#636efa",
           "#EF553B",
           "#00cc96",
           "#ab63fa",
           "#FFA15A",
           "#19d3f3",
           "#FF6692",
           "#B6E880",
           "#FF97FF",
           "#FECB52"
          ],
          "font": {
           "color": "#2a3f5f"
          },
          "geo": {
           "bgcolor": "white",
           "lakecolor": "white",
           "landcolor": "#E5ECF6",
           "showlakes": true,
           "showland": true,
           "subunitcolor": "white"
          },
          "hoverlabel": {
           "align": "left"
          },
          "hovermode": "closest",
          "mapbox": {
           "style": "light"
          },
          "paper_bgcolor": "white",
          "plot_bgcolor": "#E5ECF6",
          "polar": {
           "angularaxis": {
            "gridcolor": "white",
            "linecolor": "white",
            "ticks": ""
           },
           "bgcolor": "#E5ECF6",
           "radialaxis": {
            "gridcolor": "white",
            "linecolor": "white",
            "ticks": ""
           }
          },
          "scene": {
           "xaxis": {
            "backgroundcolor": "#E5ECF6",
            "gridcolor": "white",
            "gridwidth": 2,
            "linecolor": "white",
            "showbackground": true,
            "ticks": "",
            "zerolinecolor": "white"
           },
           "yaxis": {
            "backgroundcolor": "#E5ECF6",
            "gridcolor": "white",
            "gridwidth": 2,
            "linecolor": "white",
            "showbackground": true,
            "ticks": "",
            "zerolinecolor": "white"
           },
           "zaxis": {
            "backgroundcolor": "#E5ECF6",
            "gridcolor": "white",
            "gridwidth": 2,
            "linecolor": "white",
            "showbackground": true,
            "ticks": "",
            "zerolinecolor": "white"
           }
          },
          "shapedefaults": {
           "line": {
            "color": "#2a3f5f"
           }
          },
          "ternary": {
           "aaxis": {
            "gridcolor": "white",
            "linecolor": "white",
            "ticks": ""
           },
           "baxis": {
            "gridcolor": "white",
            "linecolor": "white",
            "ticks": ""
           },
           "bgcolor": "#E5ECF6",
           "caxis": {
            "gridcolor": "white",
            "linecolor": "white",
            "ticks": ""
           }
          },
          "title": {
           "x": 0.05
          },
          "xaxis": {
           "automargin": true,
           "gridcolor": "white",
           "linecolor": "white",
           "ticks": "",
           "title": {
            "standoff": 15
           },
           "zerolinecolor": "white",
           "zerolinewidth": 2
          },
          "yaxis": {
           "automargin": true,
           "gridcolor": "white",
           "linecolor": "white",
           "ticks": "",
           "title": {
            "standoff": 15
           },
           "zerolinecolor": "white",
           "zerolinewidth": 2
          }
         }
        },
        "title": {
         "text": "Decision Tree Correct and Incorrect Classifications per Class"
        },
        "xaxis": {
         "title": {
          "text": "Number of Observations"
         }
        },
        "yaxis": {
         "title": {
          "text": "Classes"
         }
        }
       }
      }
     },
     "metadata": {},
     "output_type": "display_data"
    }
   ],
   "source": [
    "# Compute the confusion matrix for the Decision Tree model\n",
    "conf_matrix_tree = confusion_matrix(y_test_sub, y_pred_dt)\n",
    "\n",
    "# Calculate correct and incorrect classifications for each class\n",
    "correct_tree = np.diag(conf_matrix_tree)\n",
    "incorrect_tree = np.sum(conf_matrix_tree, axis=1) - correct_tree\n",
    "\n",
    "# Define CIFAR-10 classes\n",
    "classes = [\"Airplane\", \"Automobile\", \"Bird\", \"Cat\", \"Deer\", \"Dog\", \"Frog\", \"Horse\", \"Ship\", \"Truck\"]\n",
    "\n",
    "# Define colors for the bars\n",
    "light_blue = '#6699cc' \n",
    "dark_blue = '#abdbe3'\n",
    "\n",
    "# Create a horizontal stacked bar chart using Plotly\n",
    "fig = go.Figure(data=[\n",
    "    go.Bar(name='Correct', y=classes, x=correct_tree, marker_color=light_blue, orientation='h'),\n",
    "    go.Bar(name='Incorrect', y=classes, x=incorrect_tree, marker_color=dark_blue, orientation='h')\n",
    "])\n",
    "\n",
    "# Change the bar mode\n",
    "fig.update_layout(barmode='stack', title='Decision Tree Correct and Incorrect Classifications per Class',\n",
    "                  yaxis_title='Classes', xaxis_title='Number of Observations')\n",
    "\n",
    "# Add labels to the bars\n",
    "for i in range(len(classes)):\n",
    "    fig.add_annotation(x=correct_tree[i]/2, y=classes[i],\n",
    "                       text=str(correct_tree[i]),\n",
    "                       showarrow=False,\n",
    "                       font=dict(color='black'))\n",
    "    fig.add_annotation(x=correct_tree[i] + incorrect_tree[i]/2, y=classes[i],\n",
    "                       text=str(incorrect_tree[i]),\n",
    "                       showarrow=False,\n",
    "                       font=dict(color='black'))\n",
    "\n",
    "# Show the figure\n",
    "fig.show()\n"
   ]
  },
  {
   "cell_type": "markdown",
   "metadata": {},
   "source": [
    "<div style=\"border-left: 5px solid #5DADE2; padding: 20px; background-color: #EAF2F8; font-family: Arial, sans-serif;\">\n",
    "  <h3 style=\"color: #2C3E50; border-bottom: 2px solid #5DADE2; display: inline-block; padding-bottom: 10px;\">Decision Tree Model Evaluation on CIFAR-10:</h3>\n",
    "  <div style=\"width: 50%;\">\n",
    "    <ul style=\"list-style-type: none; padding-left: 0; color: #34495E;\">\n",
    "      <li style=\"margin-bottom: 10px;\">• The Decision Tree model demonstrates a basic level of performance on the CIFAR-10 dataset, with a test accuracy of 26.31% and a train accuracy of 37.39%. The model shows a precision of 26.17% and an F1 score of 25.49%, indicating its limited effectiveness in correctly classifying the dataset's images. These results suggest that the Decision Tree model, while capable of capturing certain patterns in the data, struggles with the complexity and diversity inherent in the CIFAR-10 dataset.\n",
    "\n",
    "The performance of the Decision Tree model across different classes is uneven, with some classes like 'Ship' and 'Frog' being more accurately classified than others like 'Bird' and 'Cat'. This variability may be due to the Decision Tree's simplistic approach to decision-making, which can lead to overfitting on specific features of the training data and thus poor generalization to unseen data.\n",
    "\n",
    "To improve the model's classification accuracy, more complex and nuanced approaches such as ensemble methods (like Random Forests or Gradient Boosting) or deep learning techniques (such as Convolutional Neural Networks) might be more suitable. These methods can capture more complex patterns and interactions in the data, potentially leading to better performance. Furthermore, feature engineering and the use of more sophisticated decision-making criteria within the tree structure could offer some improvements, although these might still be limited in the face of the CIFAR-10 dataset's complexity.</li>\n",
    "    </ul>\n",
    "  </div>\n",
    "</div>\n",
    "\n"
   ]
  },
  {
   "cell_type": "markdown",
   "metadata": {},
   "source": []
  },
  {
   "cell_type": "markdown",
   "metadata": {},
   "source": [
    "<div style=\"border: 5px solid #000080; padding: 10px;\">\n",
    "<h3></h3>\n",
    "</div>"
   ]
  },
  {
   "cell_type": "markdown",
   "metadata": {},
   "source": [
    "<div style=\"border: 5px solid #5DADE2; background-color: #EAF2F8; padding: 40px; font-family: 'Arial', sans-serif;\">\n",
    "    <h2 style=\"color: #34495E; font-size: 48px; margin: 0;\">4. Convolutional Neural Network </h2>\n",
    "</div>"
   ]
  },
  {
   "cell_type": "markdown",
   "metadata": {},
   "source": [
    "<div style=\"border: 5px solid #000080; padding: 10px;\">\n",
    "<h3></h3>\n",
    "</div>"
   ]
  },
  {
   "cell_type": "code",
   "execution_count": 16,
   "metadata": {},
   "outputs": [
    {
     "name": "stdout",
     "output_type": "stream",
     "text": [
      "Epoch 1/30\n",
      "782/782 - 7s - loss: 1.5044 - accuracy: 0.4891 - val_loss: 1.2553 - val_accuracy: 0.5646 - 7s/epoch - 9ms/step\n",
      "Epoch 2/30\n",
      "782/782 - 2s - loss: 1.0611 - accuracy: 0.6266 - val_loss: 0.9871 - val_accuracy: 0.6471 - 2s/epoch - 3ms/step\n",
      "Epoch 3/30\n",
      "782/782 - 3s - loss: 0.9424 - accuracy: 0.6699 - val_loss: 0.9601 - val_accuracy: 0.6636 - 3s/epoch - 4ms/step\n",
      "Epoch 4/30\n",
      "782/782 - 4s - loss: 0.8595 - accuracy: 0.7008 - val_loss: 0.9177 - val_accuracy: 0.6790 - 4s/epoch - 5ms/step\n",
      "Epoch 5/30\n",
      "782/782 - 2s - loss: 0.7947 - accuracy: 0.7219 - val_loss: 0.9260 - val_accuracy: 0.6820 - 2s/epoch - 3ms/step\n",
      "Epoch 6/30\n",
      "782/782 - 2s - loss: 0.7355 - accuracy: 0.7419 - val_loss: 0.8666 - val_accuracy: 0.7018 - 2s/epoch - 3ms/step\n",
      "Epoch 7/30\n",
      "782/782 - 2s - loss: 0.6845 - accuracy: 0.7592 - val_loss: 0.8671 - val_accuracy: 0.7015 - 2s/epoch - 3ms/step\n",
      "Epoch 8/30\n",
      "782/782 - 3s - loss: 0.6371 - accuracy: 0.7748 - val_loss: 0.9319 - val_accuracy: 0.6820 - 3s/epoch - 3ms/step\n",
      "Epoch 9/30\n",
      "782/782 - 2s - loss: 0.5944 - accuracy: 0.7895 - val_loss: 0.8388 - val_accuracy: 0.7095 - 2s/epoch - 3ms/step\n",
      "Epoch 10/30\n",
      "782/782 - 2s - loss: 0.5629 - accuracy: 0.8001 - val_loss: 0.9407 - val_accuracy: 0.6778 - 2s/epoch - 3ms/step\n",
      "Epoch 11/30\n",
      "782/782 - 2s - loss: 0.5238 - accuracy: 0.8130 - val_loss: 0.9001 - val_accuracy: 0.6969 - 2s/epoch - 3ms/step\n",
      "Epoch 12/30\n",
      "782/782 - 2s - loss: 0.4981 - accuracy: 0.8218 - val_loss: 0.8999 - val_accuracy: 0.7067 - 2s/epoch - 3ms/step\n",
      "Epoch 13/30\n",
      "782/782 - 2s - loss: 0.4680 - accuracy: 0.8333 - val_loss: 0.8771 - val_accuracy: 0.7182 - 2s/epoch - 3ms/step\n",
      "Epoch 14/30\n",
      "782/782 - 2s - loss: 0.4512 - accuracy: 0.8389 - val_loss: 0.8962 - val_accuracy: 0.7173 - 2s/epoch - 3ms/step\n",
      "Epoch 15/30\n",
      "782/782 - 2s - loss: 0.4307 - accuracy: 0.8467 - val_loss: 0.8682 - val_accuracy: 0.7200 - 2s/epoch - 3ms/step\n",
      "Epoch 16/30\n",
      "782/782 - 2s - loss: 0.4122 - accuracy: 0.8518 - val_loss: 0.9000 - val_accuracy: 0.7179 - 2s/epoch - 3ms/step\n",
      "Epoch 17/30\n",
      "782/782 - 2s - loss: 0.3918 - accuracy: 0.8593 - val_loss: 0.9349 - val_accuracy: 0.7120 - 2s/epoch - 3ms/step\n",
      "Epoch 18/30\n",
      "782/782 - 2s - loss: 0.3847 - accuracy: 0.8635 - val_loss: 0.9622 - val_accuracy: 0.7125 - 2s/epoch - 3ms/step\n",
      "Epoch 19/30\n",
      "782/782 - 2s - loss: 0.3597 - accuracy: 0.8699 - val_loss: 0.9405 - val_accuracy: 0.7118 - 2s/epoch - 3ms/step\n",
      "Epoch 20/30\n",
      "782/782 - 2s - loss: 0.3519 - accuracy: 0.8739 - val_loss: 1.0438 - val_accuracy: 0.7077 - 2s/epoch - 3ms/step\n",
      "Epoch 21/30\n",
      "782/782 - 2s - loss: 0.3410 - accuracy: 0.8789 - val_loss: 0.9737 - val_accuracy: 0.7171 - 2s/epoch - 3ms/step\n",
      "Epoch 22/30\n",
      "782/782 - 2s - loss: 0.3292 - accuracy: 0.8842 - val_loss: 0.9408 - val_accuracy: 0.7134 - 2s/epoch - 3ms/step\n",
      "Epoch 23/30\n",
      "782/782 - 2s - loss: 0.3188 - accuracy: 0.8853 - val_loss: 0.9510 - val_accuracy: 0.7137 - 2s/epoch - 3ms/step\n",
      "Epoch 24/30\n",
      "782/782 - 2s - loss: 0.3117 - accuracy: 0.8893 - val_loss: 1.0469 - val_accuracy: 0.7110 - 2s/epoch - 3ms/step\n",
      "Epoch 25/30\n",
      "782/782 - 2s - loss: 0.3035 - accuracy: 0.8920 - val_loss: 1.0520 - val_accuracy: 0.6885 - 2s/epoch - 3ms/step\n",
      "Epoch 26/30\n",
      "782/782 - 2s - loss: 0.3016 - accuracy: 0.8920 - val_loss: 0.9733 - val_accuracy: 0.7209 - 2s/epoch - 3ms/step\n",
      "Epoch 27/30\n",
      "782/782 - 2s - loss: 0.2866 - accuracy: 0.8974 - val_loss: 0.9943 - val_accuracy: 0.7121 - 2s/epoch - 3ms/step\n",
      "Epoch 28/30\n",
      "782/782 - 2s - loss: 0.2860 - accuracy: 0.8970 - val_loss: 1.0015 - val_accuracy: 0.7101 - 2s/epoch - 3ms/step\n",
      "Epoch 29/30\n",
      "782/782 - 2s - loss: 0.2764 - accuracy: 0.9022 - val_loss: 1.0317 - val_accuracy: 0.7169 - 2s/epoch - 3ms/step\n",
      "Epoch 30/30\n",
      "782/782 - 2s - loss: 0.2755 - accuracy: 0.9007 - val_loss: 1.0503 - val_accuracy: 0.7130 - 2s/epoch - 3ms/step\n",
      "313/313 [==============================] - 0s 1ms/step\n"
     ]
    },
    {
     "data": {
      "image/png": "[encoded data removed]",
      "text/plain": [
       "<Figure size 1000x800 with 2 Axes>"
      ]
     },
     "metadata": {},
     "output_type": "display_data"
    },
    {
     "data": {
      "text/html": [
       "<div>\n",
       "<style scoped>\n",
       "    .dataframe tbody tr th:only-of-type {\n",
       "        vertical-align: middle;\n",
       "    }\n",
       "\n",
       "    .dataframe tbody tr th {\n",
       "        vertical-align: top;\n",
       "    }\n",
       "\n",
       "    .dataframe thead th {\n",
       "        text-align: right;\n",
       "    }\n",
       "</style>\n",
       "<table border=\"1\" class=\"dataframe\">\n",
       "  <thead>\n",
       "    <tr style=\"text-align: right;\">\n",
       "      <th></th>\n",
       "      <th>Model</th>\n",
       "      <th>Train Accuracy</th>\n",
       "      <th>Test Accuracy</th>\n",
       "      <th>Precision</th>\n",
       "      <th>Recall</th>\n",
       "      <th>F1 Score</th>\n",
       "      <th>Execution Time</th>\n",
       "    </tr>\n",
       "  </thead>\n",
       "  <tbody>\n",
       "    <tr>\n",
       "      <th>0</th>\n",
       "      <td>DNN</td>\n",
       "      <td>0.90074</td>\n",
       "      <td>0.713</td>\n",
       "      <td>0.711143</td>\n",
       "      <td>0.713</td>\n",
       "      <td>0.709394</td>\n",
       "      <td>00:01:17</td>\n",
       "    </tr>\n",
       "  </tbody>\n",
       "</table>\n",
       "</div>"
      ],
      "text/plain": [
       "  Model  Train Accuracy  Test Accuracy  Precision  Recall  F1 Score  \\\n",
       "0   DNN         0.90074          0.713   0.711143   0.713  0.709394   \n",
       "\n",
       "  Execution Time  \n",
       "0       00:01:17  "
      ]
     },
     "execution_count": 16,
     "metadata": {},
     "output_type": "execute_result"
    }
   ],
   "source": [
    "# Start timing\n",
    "start_time_dnn = time.time()\n",
    "\n",
    "# Load CIFAR-10 data\n",
    "(x_train_dnn, y_train_dnn), (x_test_dnn, y_test_dnn) = cifar10.load_data()\n",
    "\n",
    "# Normalize the data\n",
    "x_train_dnn, x_test_dnn = x_train_dnn / 255.0, x_test_dnn / 255.0\n",
    "\n",
    "# One-hot encode the labels\n",
    "y_train_dnn = to_categorical(y_train_dnn, 10)\n",
    "y_test_dnn = to_categorical(y_test_dnn, 10)\n",
    "\n",
    "# CNN model\n",
    "dnn_model = Sequential([\n",
    "    Conv2D(32, (3, 3), activation='relu', padding='same', input_shape=(32, 32, 3)),\n",
    "    BatchNormalization(),\n",
    "    Conv2D(32, (3, 3), activation='relu', padding='same'),\n",
    "    BatchNormalization(),\n",
    "    MaxPooling2D((2, 2)),\n",
    "    Dropout(0.2),\n",
    "    Flatten(),\n",
    "    Dense(128, activation='relu'),\n",
    "    BatchNormalization(),\n",
    "    Dropout(0.5),\n",
    "    Dense(10, activation='softmax')\n",
    "])\n",
    "\n",
    "# Compile the model\n",
    "dnn_model.compile(optimizer=Adam(learning_rate=0.001), loss='categorical_crossentropy', metrics=['accuracy'])\n",
    "\n",
    "# Fit the model\n",
    "dnn_history = dnn_model.fit(x_train_dnn, y_train_dnn, epochs=30, batch_size=64, validation_data=(x_test_dnn, y_test_dnn), verbose=2)\n",
    "\n",
    "# Predictions and metrics\n",
    "y_pred_dnn = np.argmax(dnn_model.predict(x_test_dnn), axis=1)\n",
    "y_test_dnn_labels = np.argmax(y_test_dnn, axis=1)\n",
    "\n",
    "train_accuracy_dnn = dnn_history.history['accuracy'][-1]\n",
    "test_accuracy_dnn = accuracy_score(y_test_dnn_labels, y_pred_dnn)\n",
    "precision_dnn = precision_score(y_test_dnn_labels, y_pred_dnn, average='macro')\n",
    "recall_dnn = recall_score(y_test_dnn_labels, y_pred_dnn, average='macro')\n",
    "f1_score_dnn = f1_score(y_test_dnn_labels, y_pred_dnn, average='macro')\n",
    "\n",
    "# End timing\n",
    "end_time_dnn = time.time()\n",
    "total_time_dnn = end_time_dnn - start_time_dnn\n",
    "hours_dnn, remainder_dnn = divmod(total_time_dnn, 3600)\n",
    "minutes_dnn, seconds_dnn = divmod(remainder_dnn, 60)\n",
    "time_formatted_dnn = \"{:02}:{:02}:{:02}\".format(int(hours_dnn), int(minutes_dnn), int(seconds_dnn))\n",
    "\n",
    "# Results DataFrame\n",
    "results_data_dnn = {\n",
    "    'Model': ['DNN'],\n",
    "    'Train Accuracy': [train_accuracy_dnn],\n",
    "    'Test Accuracy': [test_accuracy_dnn],\n",
    "    'Precision': [precision_dnn],\n",
    "    'Recall': [recall_dnn],\n",
    "    'F1 Score': [f1_score_dnn],\n",
    "    'Execution Time': [time_formatted_dnn]  \n",
    "}\n",
    "\n",
    "Results_dnn = pd.DataFrame(results_data_dnn)\n",
    "\n",
    "# Confusion matrix\n",
    "conf_matrix_dnn = confusion_matrix(y_test_dnn_labels, y_pred_dnn)\n",
    "\n",
    "# Visualize the confusion matrix\n",
    "plt.figure(figsize=(10, 8))\n",
    "sns.heatmap(conf_matrix_dnn, annot=True, fmt='g', cmap='Blues', xticklabels=classes, yticklabels=classes)\n",
    "plt.xlabel('Predicted labels')\n",
    "plt.ylabel('True labels')\n",
    "plt.title('Confusion Matrix of DNN on CIFAR-10')\n",
    "plt.show()\n",
    "\n",
    "Results_dnn\n"
   ]
  },
  {
   "cell_type": "markdown",
   "metadata": {},
   "source": [
    "<div style=\"border-left: 5px solid #5DADE2; padding: 15px; background-color: #EAF2F8; font-family: Arial, sans-serif;\">\n",
    "  <h3 style=\"color: #2C3E50; border-bottom: 2px solid #5DADE2; display: inline-block; padding-bottom: 10px;\">DNN Model Performance on CIFAR-10:</h3>\n",
    "  <ul style=\"list-style-type: none; padding-left: 0; color: #34495E;\">\n",
    "    <li style=\"margin-bottom: 10px;\">• The model achieved a train accuracy of 0.90074, indicating strong performance on the training set.</li>\n",
    "    <li style=\"margin-bottom: 10px;\">• The test accuracy is 0.713, suggesting that the model correctly classified approximately 71.3% of the test dataset.</li>\n",
    "    <li style=\"margin-bottom: 10px;\">• The precision of the model is 0.711143, reflecting the proportion of true positive predictions among all positive predictions.</li>\n",
    "    <li style=\"margin-bottom: 10px;\">• The recall of the model is 0.713, indicating the proportion of actual positives that were correctly identified.</li>\n",
    "    <li style=\"margin-bottom: 10px;\">• The F1 Score, which balances precision and recall, stands at 0.709394.</li>\n",
    "    <li style=\"margin-bottom: 10px;\">• The execution time for the model was 01 minute and 17 seconds, showcasing the DNN model's computational efficiency for this dataset.</li>\n",
    "  </ul>\n",
    "</div>\n"
   ]
  },
  {
   "cell_type": "code",
   "execution_count": 25,
   "metadata": {},
   "outputs": [
    {
     "name": "stdout",
     "output_type": "stream",
     "text": [
      "Correct Predictions:\n",
      "Class Airplane: 806\n",
      "Class Automobile: 844\n",
      "Class Bird: 645\n",
      "Class Cat: 446\n",
      "Class Deer: 631\n",
      "Class Dog: 568\n",
      "Class Frog: 809\n",
      "Class Horse: 751\n",
      "Class Ship: 843\n",
      "Class Truck: 787\n",
      "\n",
      "Incorrect Predictions:\n",
      "Actual: Airplane, Predicted: Automobile, Count: 18\n",
      "Actual: Airplane, Predicted: Bird, Count: 35\n",
      "Actual: Airplane, Predicted: Cat, Count: 5\n",
      "Actual: Airplane, Predicted: Deer, Count: 8\n",
      "Actual: Airplane, Predicted: Dog, Count: 3\n",
      "Actual: Airplane, Predicted: Frog, Count: 8\n",
      "Actual: Airplane, Predicted: Horse, Count: 6\n",
      "Actual: Airplane, Predicted: Ship, Count: 77\n",
      "Actual: Airplane, Predicted: Truck, Count: 34\n",
      "Actual: Automobile, Predicted: Airplane, Count: 19\n",
      "Actual: Automobile, Predicted: Bird, Count: 4\n",
      "Actual: Automobile, Predicted: Cat, Count: 2\n",
      "Actual: Automobile, Predicted: Deer, Count: 1\n",
      "Actual: Automobile, Predicted: Dog, Count: 2\n",
      "Actual: Automobile, Predicted: Frog, Count: 9\n",
      "Actual: Automobile, Predicted: Horse, Count: 3\n",
      "Actual: Automobile, Predicted: Ship, Count: 43\n",
      "Actual: Automobile, Predicted: Truck, Count: 73\n",
      "Actual: Bird, Predicted: Airplane, Count: 92\n",
      "Actual: Bird, Predicted: Automobile, Count: 10\n",
      "Actual: Bird, Predicted: Cat, Count: 47\n",
      "Actual: Bird, Predicted: Deer, Count: 69\n",
      "Actual: Bird, Predicted: Dog, Count: 26\n",
      "Actual: Bird, Predicted: Frog, Count: 58\n",
      "Actual: Bird, Predicted: Horse, Count: 27\n",
      "Actual: Bird, Predicted: Ship, Count: 13\n",
      "Actual: Bird, Predicted: Truck, Count: 13\n",
      "Actual: Cat, Predicted: Airplane, Count: 44\n",
      "Actual: Cat, Predicted: Automobile, Count: 33\n",
      "Actual: Cat, Predicted: Bird, Count: 97\n",
      "Actual: Cat, Predicted: Deer, Count: 67\n",
      "Actual: Cat, Predicted: Dog, Count: 140\n",
      "Actual: Cat, Predicted: Frog, Count: 95\n",
      "Actual: Cat, Predicted: Horse, Count: 26\n",
      "Actual: Cat, Predicted: Ship, Count: 28\n",
      "Actual: Cat, Predicted: Truck, Count: 24\n",
      "Actual: Deer, Predicted: Airplane, Count: 52\n",
      "Actual: Deer, Predicted: Automobile, Count: 5\n",
      "Actual: Deer, Predicted: Bird, Count: 106\n",
      "Actual: Deer, Predicted: Cat, Count: 45\n",
      "Actual: Deer, Predicted: Dog, Count: 28\n",
      "Actual: Deer, Predicted: Frog, Count: 55\n",
      "Actual: Deer, Predicted: Horse, Count: 57\n",
      "Actual: Deer, Predicted: Ship, Count: 15\n",
      "Actual: Deer, Predicted: Truck, Count: 6\n",
      "Actual: Dog, Predicted: Airplane, Count: 36\n",
      "Actual: Dog, Predicted: Automobile, Count: 7\n",
      "Actual: Dog, Predicted: Bird, Count: 93\n",
      "Actual: Dog, Predicted: Cat, Count: 164\n",
      "Actual: Dog, Predicted: Deer, Count: 42\n",
      "Actual: Dog, Predicted: Frog, Count: 21\n",
      "Actual: Dog, Predicted: Horse, Count: 48\n",
      "Actual: Dog, Predicted: Ship, Count: 18\n",
      "Actual: Dog, Predicted: Truck, Count: 3\n",
      "Actual: Frog, Predicted: Airplane, Count: 13\n",
      "Actual: Frog, Predicted: Automobile, Count: 4\n",
      "Actual: Frog, Predicted: Bird, Count: 74\n",
      "Actual: Frog, Predicted: Cat, Count: 38\n",
      "Actual: Frog, Predicted: Deer, Count: 30\n",
      "Actual: Frog, Predicted: Dog, Count: 16\n",
      "Actual: Frog, Predicted: Horse, Count: 3\n",
      "Actual: Frog, Predicted: Ship, Count: 10\n",
      "Actual: Frog, Predicted: Truck, Count: 3\n",
      "Actual: Horse, Predicted: Airplane, Count: 33\n",
      "Actual: Horse, Predicted: Automobile, Count: 5\n",
      "Actual: Horse, Predicted: Bird, Count: 55\n",
      "Actual: Horse, Predicted: Cat, Count: 24\n",
      "Actual: Horse, Predicted: Deer, Count: 49\n",
      "Actual: Horse, Predicted: Dog, Count: 57\n",
      "Actual: Horse, Predicted: Frog, Count: 5\n",
      "Actual: Horse, Predicted: Ship, Count: 4\n",
      "Actual: Horse, Predicted: Truck, Count: 17\n",
      "Actual: Ship, Predicted: Airplane, Count: 69\n",
      "Actual: Ship, Predicted: Automobile, Count: 37\n",
      "Actual: Ship, Predicted: Bird, Count: 9\n",
      "Actual: Ship, Predicted: Cat, Count: 2\n",
      "Actual: Ship, Predicted: Deer, Count: 4\n",
      "Actual: Ship, Predicted: Dog, Count: 2\n",
      "Actual: Ship, Predicted: Frog, Count: 6\n",
      "Actual: Ship, Predicted: Horse, Count: 2\n",
      "Actual: Ship, Predicted: Truck, Count: 26\n",
      "Actual: Truck, Predicted: Airplane, Count: 38\n",
      "Actual: Truck, Predicted: Automobile, Count: 110\n",
      "Actual: Truck, Predicted: Bird, Count: 10\n",
      "Actual: Truck, Predicted: Cat, Count: 3\n",
      "Actual: Truck, Predicted: Deer, Count: 3\n",
      "Actual: Truck, Predicted: Dog, Count: 3\n",
      "Actual: Truck, Predicted: Frog, Count: 2\n",
      "Actual: Truck, Predicted: Horse, Count: 10\n",
      "Actual: Truck, Predicted: Ship, Count: 34\n"
     ]
    }
   ],
   "source": [
    "if y_test_dnn.ndim > 1:\n",
    "    y_test_dnn_classes = np.argmax(y_test_dnn, axis=1)\n",
    "else:\n",
    "    y_test_dnn_classes = y_test_dnn\n",
    "\n",
    "# Compute the confusion matrix\n",
    "conf_matrix_dnn = confusion_matrix(y_test_dnn_classes, y_pred_dnn)\n",
    "\n",
    "# CIFAR-10 classes\n",
    "classes = [\"Airplane\", \"Automobile\", \"Bird\", \"Cat\", \"Deer\", \"Dog\", \"Frog\", \"Horse\", \"Ship\", \"Truck\"]\n",
    "\n",
    "# Initialize lists to store the results for the DNN model\n",
    "correct_predictions_dnn = []\n",
    "incorrect_predictions_dnn = []\n",
    "\n",
    "# Iterate over the confusion matrix of the DNN model\n",
    "for i in range(len(conf_matrix_dnn)):\n",
    "    for j in range(len(conf_matrix_dnn[i])):\n",
    "        if i == j:\n",
    "            # Correct predictions\n",
    "            correct_predictions_dnn.append((classes[i], conf_matrix_dnn[i][j]))\n",
    "        else:\n",
    "            # Incorrect predictions\n",
    "            if conf_matrix_dnn[i][j] > 0:  # Only include cases where there are misclassifications\n",
    "                incorrect_predictions_dnn.append((classes[i], classes[j], conf_matrix_dnn[i][j]))\n",
    "\n",
    "# Print the results for the DNN model\n",
    "print(\"Correct Predictions:\")\n",
    "for class_name, count in correct_predictions_dnn:\n",
    "    print(f\"Class {class_name}: {count}\")\n",
    "\n",
    "print(\"\\nIncorrect Predictions:\")\n",
    "for actual_class, predicted_class, count in incorrect_predictions_dnn:\n",
    "    print(f\"Actual: {actual_class}, Predicted: {predicted_class}, Count: {count}\")\n",
    "\n",
    "\n",
    "\n"
   ]
  },
  {
   "cell_type": "code",
   "execution_count": 33,
   "metadata": {},
   "outputs": [
    {
     "data": {
      "application/vnd.plotly.v1+json": {
       "config": {
        "plotlyServerURL": "https://plot.ly"
       },
       "data": [
        {
         "marker": {
          "color": "#6699cc"
         },
         "name": "Correct",
         "orientation": "h",
         "type": "bar",
         "x": [
          806,
          844,
          645,
          446,
          631,
          568,
          809,
          751,
          843,
          787
         ],
         "y": [
          "Airplane",
          "Automobile",
          "Bird",
          "Cat",
          "Deer",
          "Dog",
          "Frog",
          "Horse",
          "Ship",
          "Truck"
         ]
        },
        {
         "marker": {
          "color": "#abdbe3"
         },
         "name": "Incorrect",
         "orientation": "h",
         "type": "bar",
         "x": [
          194,
          156,
          355,
          554,
          369,
          432,
          191,
          249,
          157,
          213
         ],
         "y": [
          "Airplane",
          "Automobile",
          "Bird",
          "Cat",
          "Deer",
          "Dog",
          "Frog",
          "Horse",
          "Ship",
          "Truck"
         ]
        }
       ],
       "layout": {
        "annotations": [
         {
          "font": {
           "color": "black"
          },
          "showarrow": false,
          "text": "806",
          "x": 403,
          "y": "Airplane"
         },
         {
          "font": {
           "color": "black"
          },
          "showarrow": false,
          "text": "194",
          "x": 903,
          "y": "Airplane"
         },
         {
          "font": {
           "color": "black"
          },
          "showarrow": false,
          "text": "844",
          "x": 422,
          "y": "Automobile"
         },
         {
          "font": {
           "color": "black"
          },
          "showarrow": false,
          "text": "156",
          "x": 922,
          "y": "Automobile"
         },
         {
          "font": {
           "color": "black"
          },
          "showarrow": false,
          "text": "645",
          "x": 322.5,
          "y": "Bird"
         },
         {
          "font": {
           "color": "black"
          },
          "showarrow": false,
          "text": "355",
          "x": 822.5,
          "y": "Bird"
         },
         {
          "font": {
           "color": "black"
          },
          "showarrow": false,
          "text": "446",
          "x": 223,
          "y": "Cat"
         },
         {
          "font": {
           "color": "black"
          },
          "showarrow": false,
          "text": "554",
          "x": 723,
          "y": "Cat"
         },
         {
          "font": {
           "color": "black"
          },
          "showarrow": false,
          "text": "631",
          "x": 315.5,
          "y": "Deer"
         },
         {
          "font": {
           "color": "black"
          },
          "showarrow": false,
          "text": "369",
          "x": 815.5,
          "y": "Deer"
         },
         {
          "font": {
           "color": "black"
          },
          "showarrow": false,
          "text": "568",
          "x": 284,
          "y": "Dog"
         },
         {
          "font": {
           "color": "black"
          },
          "showarrow": false,
          "text": "432",
          "x": 784,
          "y": "Dog"
         },
         {
          "font": {
           "color": "black"
          },
          "showarrow": false,
          "text": "809",
          "x": 404.5,
          "y": "Frog"
         },
         {
          "font": {
           "color": "black"
          },
          "showarrow": false,
          "text": "191",
          "x": 904.5,
          "y": "Frog"
         },
         {
          "font": {
           "color": "black"
          },
          "showarrow": false,
          "text": "751",
          "x": 375.5,
          "y": "Horse"
         },
         {
          "font": {
           "color": "black"
          },
          "showarrow": false,
          "text": "249",
          "x": 875.5,
          "y": "Horse"
         },
         {
          "font": {
           "color": "black"
          },
          "showarrow": false,
          "text": "843",
          "x": 421.5,
          "y": "Ship"
         },
         {
          "font": {
           "color": "black"
          },
          "showarrow": false,
          "text": "157",
          "x": 921.5,
          "y": "Ship"
         },
         {
          "font": {
           "color": "black"
          },
          "showarrow": false,
          "text": "787",
          "x": 393.5,
          "y": "Truck"
         },
         {
          "font": {
           "color": "black"
          },
          "showarrow": false,
          "text": "213",
          "x": 893.5,
          "y": "Truck"
         }
        ],
        "barmode": "stack",
        "template": {
         "data": {
          "bar": [
           {
            "error_x": {
             "color": "#2a3f5f"
            },
            "error_y": {
             "color": "#2a3f5f"
            },
            "marker": {
             "line": {
              "color": "#E5ECF6",
              "width": 0.5
             },
             "pattern": {
              "fillmode": "overlay",
              "size": 10,
              "solidity": 0.2
             }
            },
            "type": "bar"
           }
          ],
          "barpolar": [
           {
            "marker": {
             "line": {
              "color": "#E5ECF6",
              "width": 0.5
             },
             "pattern": {
              "fillmode": "overlay",
              "size": 10,
              "solidity": 0.2
             }
            },
            "type": "barpolar"
           }
          ],
          "carpet": [
           {
            "aaxis": {
             "endlinecolor": "#2a3f5f",
             "gridcolor": "white",
             "linecolor": "white",
             "minorgridcolor": "white",
             "startlinecolor": "#2a3f5f"
            },
            "baxis": {
             "endlinecolor": "#2a3f5f",
             "gridcolor": "white",
             "linecolor": "white",
             "minorgridcolor": "white",
             "startlinecolor": "#2a3f5f"
            },
            "type": "carpet"
           }
          ],
          "choropleth": [
           {
            "colorbar": {
             "outlinewidth": 0,
             "ticks": ""
            },
            "type": "choropleth"
           }
          ],
          "contour": [
           {
            "colorbar": {
             "outlinewidth": 0,
             "ticks": ""
            },
            "colorscale": [
             [
              0,
              "#0d0887"
             ],
             [
              0.1111111111111111,
              "#46039f"
             ],
             [
              0.2222222222222222,
              "#7201a8"
             ],
             [
              0.3333333333333333,
              "#9c179e"
             ],
             [
              0.4444444444444444,
              "#bd3786"
             ],
             [
              0.5555555555555556,
              "#d8576b"
             ],
             [
              0.6666666666666666,
              "#ed7953"
             ],
             [
              0.7777777777777778,
              "#fb9f3a"
             ],
             [
              0.8888888888888888,
              "#fdca26"
             ],
             [
              1,
              "#f0f921"
             ]
            ],
            "type": "contour"
           }
          ],
          "contourcarpet": [
           {
            "colorbar": {
             "outlinewidth": 0,
             "ticks": ""
            },
            "type": "contourcarpet"
           }
          ],
          "heatmap": [
           {
            "colorbar": {
             "outlinewidth": 0,
             "ticks": ""
            },
            "colorscale": [
             [
              0,
              "#0d0887"
             ],
             [
              0.1111111111111111,
              "#46039f"
             ],
             [
              0.2222222222222222,
              "#7201a8"
             ],
             [
              0.3333333333333333,
              "#9c179e"
             ],
             [
              0.4444444444444444,
              "#bd3786"
             ],
             [
              0.5555555555555556,
              "#d8576b"
             ],
             [
              0.6666666666666666,
              "#ed7953"
             ],
             [
              0.7777777777777778,
              "#fb9f3a"
             ],
             [
              0.8888888888888888,
              "#fdca26"
             ],
             [
              1,
              "#f0f921"
             ]
            ],
            "type": "heatmap"
           }
          ],
          "heatmapgl": [
           {
            "colorbar": {
             "outlinewidth": 0,
             "ticks": ""
            },
            "colorscale": [
             [
              0,
              "#0d0887"
             ],
             [
              0.1111111111111111,
              "#46039f"
             ],
             [
              0.2222222222222222,
              "#7201a8"
             ],
             [
              0.3333333333333333,
              "#9c179e"
             ],
             [
              0.4444444444444444,
              "#bd3786"
             ],
             [
              0.5555555555555556,
              "#d8576b"
             ],
             [
              0.6666666666666666,
              "#ed7953"
             ],
             [
              0.7777777777777778,
              "#fb9f3a"
             ],
             [
              0.8888888888888888,
              "#fdca26"
             ],
             [
              1,
              "#f0f921"
             ]
            ],
            "type": "heatmapgl"
           }
          ],
          "histogram": [
           {
            "marker": {
             "pattern": {
              "fillmode": "overlay",
              "size": 10,
              "solidity": 0.2
             }
            },
            "type": "histogram"
           }
          ],
          "histogram2d": [
           {
            "colorbar": {
             "outlinewidth": 0,
             "ticks": ""
            },
            "colorscale": [
             [
              0,
              "#0d0887"
             ],
             [
              0.1111111111111111,
              "#46039f"
             ],
             [
              0.2222222222222222,
              "#7201a8"
             ],
             [
              0.3333333333333333,
              "#9c179e"
             ],
             [
              0.4444444444444444,
              "#bd3786"
             ],
             [
              0.5555555555555556,
              "#d8576b"
             ],
             [
              0.6666666666666666,
              "#ed7953"
             ],
             [
              0.7777777777777778,
              "#fb9f3a"
             ],
             [
              0.8888888888888888,
              "#fdca26"
             ],
             [
              1,
              "#f0f921"
             ]
            ],
            "type": "histogram2d"
           }
          ],
          "histogram2dcontour": [
           {
            "colorbar": {
             "outlinewidth": 0,
             "ticks": ""
            },
            "colorscale": [
             [
              0,
              "#0d0887"
             ],
             [
              0.1111111111111111,
              "#46039f"
             ],
             [
              0.2222222222222222,
              "#7201a8"
             ],
             [
              0.3333333333333333,
              "#9c179e"
             ],
             [
              0.4444444444444444,
              "#bd3786"
             ],
             [
              0.5555555555555556,
              "#d8576b"
             ],
             [
              0.6666666666666666,
              "#ed7953"
             ],
             [
              0.7777777777777778,
              "#fb9f3a"
             ],
             [
              0.8888888888888888,
              "#fdca26"
             ],
             [
              1,
              "#f0f921"
             ]
            ],
            "type": "histogram2dcontour"
           }
          ],
          "mesh3d": [
           {
            "colorbar": {
             "outlinewidth": 0,
             "ticks": ""
            },
            "type": "mesh3d"
           }
          ],
          "parcoords": [
           {
            "line": {
             "colorbar": {
              "outlinewidth": 0,
              "ticks": ""
             }
            },
            "type": "parcoords"
           }
          ],
          "pie": [
           {
            "automargin": true,
            "type": "pie"
           }
          ],
          "scatter": [
           {
            "fillpattern": {
             "fillmode": "overlay",
             "size": 10,
             "solidity": 0.2
            },
            "type": "scatter"
           }
          ],
          "scatter3d": [
           {
            "line": {
             "colorbar": {
              "outlinewidth": 0,
              "ticks": ""
             }
            },
            "marker": {
             "colorbar": {
              "outlinewidth": 0,
              "ticks": ""
             }
            },
            "type": "scatter3d"
           }
          ],
          "scattercarpet": [
           {
            "marker": {
             "colorbar": {
              "outlinewidth": 0,
              "ticks": ""
             }
            },
            "type": "scattercarpet"
           }
          ],
          "scattergeo": [
           {
            "marker": {
             "colorbar": {
              "outlinewidth": 0,
              "ticks": ""
             }
            },
            "type": "scattergeo"
           }
          ],
          "scattergl": [
           {
            "marker": {
             "colorbar": {
              "outlinewidth": 0,
              "ticks": ""
             }
            },
            "type": "scattergl"
           }
          ],
          "scattermapbox": [
           {
            "marker": {
             "colorbar": {
              "outlinewidth": 0,
              "ticks": ""
             }
            },
            "type": "scattermapbox"
           }
          ],
          "scatterpolar": [
           {
            "marker": {
             "colorbar": {
              "outlinewidth": 0,
              "ticks": ""
             }
            },
            "type": "scatterpolar"
           }
          ],
          "scatterpolargl": [
           {
            "marker": {
             "colorbar": {
              "outlinewidth": 0,
              "ticks": ""
             }
            },
            "type": "scatterpolargl"
           }
          ],
          "scatterternary": [
           {
            "marker": {
             "colorbar": {
              "outlinewidth": 0,
              "ticks": ""
             }
            },
            "type": "scatterternary"
           }
          ],
          "surface": [
           {
            "colorbar": {
             "outlinewidth": 0,
             "ticks": ""
            },
            "colorscale": [
             [
              0,
              "#0d0887"
             ],
             [
              0.1111111111111111,
              "#46039f"
             ],
             [
              0.2222222222222222,
              "#7201a8"
             ],
             [
              0.3333333333333333,
              "#9c179e"
             ],
             [
              0.4444444444444444,
              "#bd3786"
             ],
             [
              0.5555555555555556,
              "#d8576b"
             ],
             [
              0.6666666666666666,
              "#ed7953"
             ],
             [
              0.7777777777777778,
              "#fb9f3a"
             ],
             [
              0.8888888888888888,
              "#fdca26"
             ],
             [
              1,
              "#f0f921"
             ]
            ],
            "type": "surface"
           }
          ],
          "table": [
           {
            "cells": {
             "fill": {
              "color": "#EBF0F8"
             },
             "line": {
              "color": "white"
             }
            },
            "header": {
             "fill": {
              "color": "#C8D4E3"
             },
             "line": {
              "color": "white"
             }
            },
            "type": "table"
           }
          ]
         },
         "layout": {
          "annotationdefaults": {
           "arrowcolor": "#2a3f5f",
           "arrowhead": 0,
           "arrowwidth": 1
          },
          "autotypenumbers": "strict",
          "coloraxis": {
           "colorbar": {
            "outlinewidth": 0,
            "ticks": ""
           }
          },
          "colorscale": {
           "diverging": [
            [
             0,
             "#8e0152"
            ],
            [
             0.1,
             "#c51b7d"
            ],
            [
             0.2,
             "#de77ae"
            ],
            [
             0.3,
             "#f1b6da"
            ],
            [
             0.4,
             "#fde0ef"
            ],
            [
             0.5,
             "#f7f7f7"
            ],
            [
             0.6,
             "#e6f5d0"
            ],
            [
             0.7,
             "#b8e186"
            ],
            [
             0.8,
             "#7fbc41"
            ],
            [
             0.9,
             "#4d9221"
            ],
            [
             1,
             "#276419"
            ]
           ],
           "sequential": [
            [
             0,
             "#0d0887"
            ],
            [
             0.1111111111111111,
             "#46039f"
            ],
            [
             0.2222222222222222,
             "#7201a8"
            ],
            [
             0.3333333333333333,
             "#9c179e"
            ],
            [
             0.4444444444444444,
             "#bd3786"
            ],
            [
             0.5555555555555556,
             "#d8576b"
            ],
            [
             0.6666666666666666,
             "#ed7953"
            ],
            [
             0.7777777777777778,
             "#fb9f3a"
            ],
            [
             0.8888888888888888,
             "#fdca26"
            ],
            [
             1,
             "#f0f921"
            ]
           ],
           "sequentialminus": [
            [
             0,
             "#0d0887"
            ],
            [
             0.1111111111111111,
             "#46039f"
            ],
            [
             0.2222222222222222,
             "#7201a8"
            ],
            [
             0.3333333333333333,
             "#9c179e"
            ],
            [
             0.4444444444444444,
             "#bd3786"
            ],
            [
             0.5555555555555556,
             "#d8576b"
            ],
            [
             0.6666666666666666,
             "#ed7953"
            ],
            [
             0.7777777777777778,
             "#fb9f3a"
            ],
            [
             0.8888888888888888,
             "#fdca26"
            ],
            [
             1,
             "#f0f921"
            ]
           ]
          },
          "colorway": [
           "#636efa",
           "#EF553B",
           "#00cc96",
           "#ab63fa",
           "#FFA15A",
           "#19d3f3",
           "#FF6692",
           "#B6E880",
           "#FF97FF",
           "#FECB52"
          ],
          "font": {
           "color": "#2a3f5f"
          },
          "geo": {
           "bgcolor": "white",
           "lakecolor": "white",
           "landcolor": "#E5ECF6",
           "showlakes": true,
           "showland": true,
           "subunitcolor": "white"
          },
          "hoverlabel": {
           "align": "left"
          },
          "hovermode": "closest",
          "mapbox": {
           "style": "light"
          },
          "paper_bgcolor": "white",
          "plot_bgcolor": "#E5ECF6",
          "polar": {
           "angularaxis": {
            "gridcolor": "white",
            "linecolor": "white",
            "ticks": ""
           },
           "bgcolor": "#E5ECF6",
           "radialaxis": {
            "gridcolor": "white",
            "linecolor": "white",
            "ticks": ""
           }
          },
          "scene": {
           "xaxis": {
            "backgroundcolor": "#E5ECF6",
            "gridcolor": "white",
            "gridwidth": 2,
            "linecolor": "white",
            "showbackground": true,
            "ticks": "",
            "zerolinecolor": "white"
           },
           "yaxis": {
            "backgroundcolor": "#E5ECF6",
            "gridcolor": "white",
            "gridwidth": 2,
            "linecolor": "white",
            "showbackground": true,
            "ticks": "",
            "zerolinecolor": "white"
           },
           "zaxis": {
            "backgroundcolor": "#E5ECF6",
            "gridcolor": "white",
            "gridwidth": 2,
            "linecolor": "white",
            "showbackground": true,
            "ticks": "",
            "zerolinecolor": "white"
           }
          },
          "shapedefaults": {
           "line": {
            "color": "#2a3f5f"
           }
          },
          "ternary": {
           "aaxis": {
            "gridcolor": "white",
            "linecolor": "white",
            "ticks": ""
           },
           "baxis": {
            "gridcolor": "white",
            "linecolor": "white",
            "ticks": ""
           },
           "bgcolor": "#E5ECF6",
           "caxis": {
            "gridcolor": "white",
            "linecolor": "white",
            "ticks": ""
           }
          },
          "title": {
           "x": 0.05
          },
          "xaxis": {
           "automargin": true,
           "gridcolor": "white",
           "linecolor": "white",
           "ticks": "",
           "title": {
            "standoff": 15
           },
           "zerolinecolor": "white",
           "zerolinewidth": 2
          },
          "yaxis": {
           "automargin": true,
           "gridcolor": "white",
           "linecolor": "white",
           "ticks": "",
           "title": {
            "standoff": 15
           },
           "zerolinecolor": "white",
           "zerolinewidth": 2
          }
         }
        },
        "title": {
         "text": "CNN Correct and Incorrect Classifications per Class"
        },
        "xaxis": {
         "title": {
          "text": "Number of Observations"
         }
        },
        "yaxis": {
         "title": {
          "text": "Classes"
         }
        }
       }
      }
     },
     "metadata": {},
     "output_type": "display_data"
    }
   ],
   "source": [
    "# Compute the confusion matrix for the Decision Tree model\n",
    "conf_matrix_tree = confusion_matrix(y_test_sub, y_pred_dnn)\n",
    "\n",
    "# Calculate correct and incorrect classifications for each class\n",
    "correct_tree = np.diag(conf_matrix_tree)\n",
    "incorrect_tree = np.sum(conf_matrix_tree, axis=1) - correct_tree\n",
    "\n",
    "# Define CIFAR-10 classes\n",
    "classes = [\"Airplane\", \"Automobile\", \"Bird\", \"Cat\", \"Deer\", \"Dog\", \"Frog\", \"Horse\", \"Ship\", \"Truck\"]\n",
    "\n",
    "# Define colors for the bars\n",
    "light_blue = '#6699cc' \n",
    "dark_blue = '#abdbe3'\n",
    "\n",
    "# Create a horizontal stacked bar chart using Plotly\n",
    "fig = go.Figure(data=[\n",
    "    go.Bar(name='Correct', y=classes, x=correct_tree, marker_color=light_blue, orientation='h'),\n",
    "    go.Bar(name='Incorrect', y=classes, x=incorrect_tree, marker_color=dark_blue, orientation='h')\n",
    "])\n",
    "\n",
    "# Change the bar mode\n",
    "fig.update_layout(barmode='stack', title='CNN Correct and Incorrect Classifications per Class',\n",
    "                  yaxis_title='Classes', xaxis_title='Number of Observations')\n",
    "\n",
    "# Add labels to the bars\n",
    "for i in range(len(classes)):\n",
    "    fig.add_annotation(x=correct_tree[i]/2, y=classes[i],\n",
    "                       text=str(correct_tree[i]),\n",
    "                       showarrow=False,\n",
    "                       font=dict(color='black'))\n",
    "    fig.add_annotation(x=correct_tree[i] + incorrect_tree[i]/2, y=classes[i],\n",
    "                       text=str(incorrect_tree[i]),\n",
    "                       showarrow=False,\n",
    "                       font=dict(color='black'))\n",
    "\n",
    "# Show the figure\n",
    "fig.show()"
   ]
  },
  {
   "cell_type": "markdown",
   "metadata": {},
   "source": [
    "<div style=\"border-left: 5px solid #5DADE2; padding: 20px; background-color: #EAF2F8; font-family: Arial, sans-serif;\">\n",
    "  <h3 style=\"color: #2C3E50; border-bottom: 2px solid #5DADE2; display: inline-block; padding-bottom: 10px;\">DNN Model Evaluation on CIFAR-10:</h3>\n",
    "  <div style=\"width: 50%;\">\n",
    "    <ul style=\"list-style-type: none; padding-left: 0; color: #34495E;\">\n",
    "      <li style=\"margin-bottom: 10px;\">• The Deep Neural Network (DNN) model, when applied to the CIFAR-10 dataset, demonstrates a significant improvement in performance compared to simpler models like Logistic Regression. The DNN model achieved a test accuracy of 71.3% and a train accuracy of 90.074%, showcasing its effectiveness in classifying the dataset's complex image data. With a precision of 71.11% and an F1 score of 70.94%, the model underscores its robustness in handling the diverse and intricate nature of the CIFAR-10 dataset.\n",
    "\n",
    "The model's enhanced performance can be attributed to the deep architecture of neural networks, which are better suited for capturing the complex patterns in image data. The DNN model effectively learns hierarchical representations of the data, making it more capable of distinguishing between the ten different classes in the CIFAR-10 dataset. This is evident in the model's relatively balanced performance across various classes, such as 'Cat', 'Dog', 'Ship', and 'Airplane'.\n",
    "\n",
    "Despite its impressive capabilities, the DNN model can still be further optimized. Exploring deeper or more complex architectures, such as convolutional neural networks (CNNs), can potentially lead to even higher accuracy. Additionally, techniques like data augmentation, dropout, and advanced regularization methods can be employed to prevent overfitting and enhance the model's generalization to new data. The success of the DNN model in this context highlights the potential of deep learning techniques in effectively tackling challenging image classification tasks, especially in datasets as diverse as CIFAR-10.</li>\n",
    "    </ul>\n",
    "  </div>\n",
    "</div>\n"
   ]
  },
  {
   "cell_type": "markdown",
   "metadata": {},
   "source": [
    "<div style=\"border: 5px solid #5DADE2; background-color: #EAF2F8; padding: 40px; font-family: 'Arial', sans-serif;\">\n",
    "    <h2 style=\"color: #34495E; font-size: 48px; margin: 0;\">5. Compare all results </h2>\n",
    "</div>"
   ]
  },
  {
   "cell_type": "code",
   "execution_count": 32,
   "metadata": {},
   "outputs": [
    {
     "data": {
      "text/html": [
       "<div>\n",
       "<style scoped>\n",
       "    .dataframe tbody tr th:only-of-type {\n",
       "        vertical-align: middle;\n",
       "    }\n",
       "\n",
       "    .dataframe tbody tr th {\n",
       "        vertical-align: top;\n",
       "    }\n",
       "\n",
       "    .dataframe thead th {\n",
       "        text-align: right;\n",
       "    }\n",
       "</style>\n",
       "<table border=\"1\" class=\"dataframe\">\n",
       "  <thead>\n",
       "    <tr style=\"text-align: right;\">\n",
       "      <th></th>\n",
       "      <th>Model</th>\n",
       "      <th>Train Accuracy</th>\n",
       "      <th>Test Accuracy</th>\n",
       "      <th>Precision</th>\n",
       "      <th>Recall</th>\n",
       "      <th>F1 Score</th>\n",
       "      <th>Execution Time</th>\n",
       "    </tr>\n",
       "  </thead>\n",
       "  <tbody>\n",
       "    <tr>\n",
       "      <th>0</th>\n",
       "      <td>KNN</td>\n",
       "      <td>1.00000</td>\n",
       "      <td>0.3331</td>\n",
       "      <td>0.396811</td>\n",
       "      <td>0.3331</td>\n",
       "      <td>0.322418</td>\n",
       "      <td>00:00:25</td>\n",
       "    </tr>\n",
       "    <tr>\n",
       "      <th>1</th>\n",
       "      <td>Logistic Regression</td>\n",
       "      <td>0.66590</td>\n",
       "      <td>0.3286</td>\n",
       "      <td>0.325975</td>\n",
       "      <td>0.3286</td>\n",
       "      <td>0.326851</td>\n",
       "      <td>00:01:13</td>\n",
       "    </tr>\n",
       "    <tr>\n",
       "      <th>2</th>\n",
       "      <td>Decision Tree</td>\n",
       "      <td>0.37390</td>\n",
       "      <td>0.2631</td>\n",
       "      <td>0.261692</td>\n",
       "      <td>0.2631</td>\n",
       "      <td>0.254934</td>\n",
       "      <td>00:02:42</td>\n",
       "    </tr>\n",
       "    <tr>\n",
       "      <th>3</th>\n",
       "      <td>DNN</td>\n",
       "      <td>0.90074</td>\n",
       "      <td>0.7130</td>\n",
       "      <td>0.711143</td>\n",
       "      <td>0.7130</td>\n",
       "      <td>0.709394</td>\n",
       "      <td>00:01:17</td>\n",
       "    </tr>\n",
       "  </tbody>\n",
       "</table>\n",
       "</div>"
      ],
      "text/plain": [
       "                 Model  Train Accuracy  Test Accuracy  Precision  Recall  \\\n",
       "0                  KNN         1.00000         0.3331   0.396811  0.3331   \n",
       "1  Logistic Regression         0.66590         0.3286   0.325975  0.3286   \n",
       "2        Decision Tree         0.37390         0.2631   0.261692  0.2631   \n",
       "3                  DNN         0.90074         0.7130   0.711143  0.7130   \n",
       "\n",
       "   F1 Score Execution Time  \n",
       "0  0.322418       00:00:25  \n",
       "1  0.326851       00:01:13  \n",
       "2  0.254934       00:02:42  \n",
       "3  0.709394       00:01:17  "
      ]
     },
     "execution_count": 32,
     "metadata": {},
     "output_type": "execute_result"
    }
   ],
   "source": [
    "#concat all the results tables\n",
    "Results_all = pd.concat([Results, Results_log, Results_dt, Results_dnn], ignore_index=True)\n",
    "Results_all"
   ]
  },
  {
   "cell_type": "markdown",
   "metadata": {},
   "source": [
    "<div style=\"border-left: 5px solid #5DADE2; padding: 15px; background-color: #EAF2F8; font-family: Arial, sans-serif;\">\n",
    "\n",
    "\n",
    "\n",
    "<ul style=\"list-style-type: none; padding-left: 0; color: #34495E;\">\n",
    "    <li style=\"margin-bottom: 10px;\">• <b>Note:</b> Dark Blue = Best</li>\n",
    "   \n",
    "</ul>"
   ]
  },
  {
   "cell_type": "markdown",
   "metadata": {},
   "source": [
    "<style>\n",
    "    .light-blue { background-color: #ADD8E6; }\n",
    "    .medium-blue { background-color: #87CEEB; }\n",
    "    .dark-blue { background-color: #4169E1; color: white; }\n",
    "</style>\n",
    "\n",
    "<table border=\"1\" style=\"border-collapse: collapse; width: 70%;\"> <!-- Reduced table size to 80% -->\n",
    "    <thead>\n",
    "        <tr style=\"text-align: center;\">\n",
    "            <th>Model</th>\n",
    "            <th>Train Accuracy</th>\n",
    "            <th>Test Accuracy</th>\n",
    "            <th>Precision</th>\n",
    "            <th>Recall</th>\n",
    "            <th>F1 Score</th>\n",
    "            <th>Execution Time</th>\n",
    "        </tr>\n",
    "    </thead>\n",
    "    <tbody>\n",
    "        <tr style=\"text-align: center;\">\n",
    "            <td>KNN</td>\n",
    "            <td class=\"light-blue\">1.00000</td> <!-- Light Blue for Overfit -->\n",
    "            <td class=\"light-blue\">0.3331</td> <!-- Light Blue -->\n",
    "            <td class=\"light-blue\">0.396811</td> <!-- Light Blue -->\n",
    "            <td class=\"light-blue\">0.3331</td> <!-- Light Blue -->\n",
    "            <td class=\"light-blue\">0.322418</td> <!-- Light Blue -->\n",
    "            <td class=\"dark-blue\">00:00:25</td> <!-- Dark Blue -->\n",
    "        </tr>\n",
    "        <tr style=\"text-align: center;\">\n",
    "            <td>Logistic Regression</td>\n",
    "            <td class=\"medium-blue\">0.66590</td> <!-- Medium Blue -->\n",
    "            <td class=\"medium-blue\">0.3286</td> <!-- Medium Blue -->\n",
    "            <td class=\"medium-blue\">0.325975</td> <!-- Medium Blue -->\n",
    "            <td class=\"medium-blue\">0.3286</td> <!-- Medium Blue -->\n",
    "            <td class=\"medium-blue\">0.326851</td> <!-- Medium Blue -->\n",
    "            <td class=\"light-blue\">00:01:13</td> <!-- Light Blue -->\n",
    "        </tr>\n",
    "        <tr style=\"text-align: center;\">\n",
    "            <td>Decision Tree</td>\n",
    "            <td class=\"light-blue\">0.37390</td> <!-- Light Blue -->\n",
    "            <td class=\"light-blue\">0.2631</td> <!-- Light Blue -->\n",
    "            <td class=\"light-blue\">0.261692</td> <!-- Light Blue -->\n",
    "            <td class=\"light-blue\">0.2631</td> <!-- Light Blue -->\n",
    "            <td class=\"light-blue\">0.254934</td> <!-- Light Blue -->\n",
    "            <td class=\"medium-blue\">00:02:42</td> <!-- Medium Blue -->\n",
    "        </tr>\n",
    "        <tr style=\"text-align: center;\">\n",
    "            <td>DNN</td>\n",
    "            <td class=\"dark-blue\">0.90074</td> <!-- Dark Blue -->\n",
    "            <td class=\"dark-blue\">0.7130</td> <!-- Dark Blue -->\n",
    "            <td class=\"dark-blue\">0.711143</td> <!-- Dark Blue -->\n",
    "            <td class=\"dark-blue\">0.7130</td> <!-- Dark Blue -->\n",
    "            <td class=\"dark-blue\">0.709394</td> <!-- Dark Blue -->\n",
    "            <td class=\"light-blue\">00:01:17</td> <!-- Light Blue -->\n",
    "        </tr>\n",
    "    </tbody>\n",
    "</table>\n"
   ]
  },
  {
   "cell_type": "markdown",
   "metadata": {},
   "source": [
    "<div style=\"border-left: 5px solid #5DADE2; padding: 20px; background-color: #EAF2F8; font-family: Arial, sans-serif;\">\n",
    "  <h3 style=\"color: #2C3E50; border-bottom: 2px solid #5DADE2; display: inline-block; padding-bottom: 10px;\">All Model Metric Comparison on CIFAR-10:</h3>\n",
    "  <div style=\"width: 50%;\">\n",
    "    <ul style=\"list-style-type: none; padding-left: 0; color: #34495E;\">\n",
    "      <li style=\"margin-bottom: 10px;\">\n",
    "        • The comparison of different models on the CIFAR-10 dataset reveals a diverse range of performances. The Deep Neural Network (DNN) outperformed other models with a high test accuracy of 71.3% and a train accuracy of 90.074%, demonstrating its advanced capability in handling complex image data. With a precision of 71.1143% and an F1 score of 70.9394%, the DNN showcased its proficiency in balanced classification across various classes.\n",
    "      </li>\n",
    "      <li style=\"margin-bottom: 10px;\">\n",
    "        • The K-Nearest Neighbors (KNN) model, while achieving perfect training accuracy (100%), fell short in test performance with only 33.31% accuracy. This significant disparity indicates a high degree of overfitting, limiting its real-world applicability despite its fast execution time of 25 seconds.\n",
    "      </li>\n",
    "      <li style=\"margin-bottom: 10px;\">\n",
    "        • Logistic Regression, a simpler model, achieved moderate success with a train accuracy of 66.59% and a test accuracy of 32.86%. Its precision and F1 score were around 32.6%, reflecting its limitations in handling the dataset's complexity.\n",
    "      </li>\n",
    "      <li style=\"margin-bottom: 10px;\">\n",
    "        • The Decision Tree model exhibited the lowest performance among the tested models, with a train accuracy of 37.39% and a test accuracy of 26.31%. Its execution time was the longest at 2 minutes and 42 seconds, further diminishing its suitability for this dataset.\n",
    "      </li>\n",
    "      <li style=\"margin-bottom: 10px;\">\n",
    "        • These results highlight the importance of choosing the right model for image classification tasks. The DNN's superiority in handling CIFAR-10's complexity underscores the effectiveness of deep learning techniques for image data, while simpler models like KNN and Logistic Regression struggle with the nuances of such datasets. The Decision Tree's performance further illustrates the challenges of applying traditional machine learning models to complex image classification tasks.\n",
    "      </li>\n",
    "    </ul>\n",
    "  </div>\n",
    "</div>\n"
   ]
  },
  {
   "cell_type": "markdown",
   "metadata": {},
   "source": [
    "<div style=\"border-left: 5px solid #5DADE2; padding: 20px; background-color: #EAF2F8; font-family: Arial, sans-serif; max-width: 800px;\">\n",
    "    <h3 style=\"color: #2C3E50; border-bottom: 2px solid #5DADE2; display: inline-block; padding-bottom: 10px;\">Conclusion</h3>\n",
    "    <ul style=\"list-style-type: none; padding-left: 0; color: #34495E;\">\n",
    "        <li style=\"margin-bottom: 10px;\">\n",
    "            • In our detailed exploration of machine learning models on the CIFAR-10 dataset, we observed distinct performances across Logistic Regression, Decision Tree, and Deep Neural Network (DNN) models. This study not only compared the overall accuracy but also delved into how each model fared with specific classes, revealing nuanced insights into their capabilities and limitations.\n",
    "        </li>\n",
    "        <li style=\"margin-bottom: 10px;\">\n",
    "            • The DNN stood out in terms of overall accuracy, particularly excelling in classifying classes like 'Automobile' and 'Ship', which are typically characterized by distinct shapes and structures. However, it faced challenges with more ambiguous classes such as 'Cat' and 'Dog', likely due to the subtle differences and variety in these animal images.\n",
    "        </li>\n",
    "        <li style=\"margin-bottom: 10px;\">\n",
    "            • The Logistic Regression and Decision Tree models, while more straightforward and less resource-intensive, struggled more significantly across most classes. They notably underperformed in classes with high intra-class variation, such as 'Bird' and 'Deer'. However, they showed relatively better performance with 'Automobile' and 'Truck', possibly due to their distinct and less varied features compared to natural objects or animals.\n",
    "        </li>\n",
    "        <li style=\"margin-bottom: 10px;\">\n",
    "            • A striking observation was the common difficulty all models faced with certain classes like 'Cat' and 'Dog'. This consistency across different model architectures underscores the inherent challenge in classifying images with subtle distinctions and high variability, a critical consideration for real-world applications like automated wildlife monitoring or domestic pet identification.\n",
    "        </li>\n",
    "        <li style=\"margin-bottom: 10px;\">\n",
    "            • These findings bear significant implications for practical applications. While the DNN's superiority in handling complex patterns makes it ideal for advanced image recognition tasks in sectors like healthcare and autonomous driving, the more straightforward models might still be valuable in scenarios where computational resources are limited, or the classification tasks are less nuanced.\n",
    "        </li>\n",
    "        <li style=\"margin-bottom: 10px;\">\n",
    "            • Ultimately, this study illustrates the importance of model selection in machine learning, guided not only by overall accuracy but also by the specific characteristics of the data and the practical requirements of the application. It highlights the need for ongoing research and development in machine learning to enhance the capability of models to handle diverse and challenging datasets like CIFAR-10.\n",
    "        </li>\n",
    "    </ul>\n",
    "</div>\n",
    "\n"
   ]
  },
  {
   "cell_type": "markdown",
   "metadata": {},
   "source": []
  },
  {
   "cell_type": "code",
   "execution_count": null,
   "metadata": {},
   "outputs": [],
   "source": []
  }
 ],
 "metadata": {
  "kernelspec": {
   "display_name": "tensorflow",
   "language": "python",
   "name": "python3"
  },
  "language_info": {
   "codemirror_mode": {
    "name": "ipython",
    "version": 3
   },
   "file_extension": ".py",
   "mimetype": "text/x-python",
   "name": "python",
   "nbconvert_exporter": "python",
   "pygments_lexer": "ipython3",
   "version": "3.9.18"
  }
 },
 "nbformat": 4,
 "nbformat_minor": 2
}
